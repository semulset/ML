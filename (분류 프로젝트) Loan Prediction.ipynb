{
 "cells": [
  {
   "cell_type": "markdown",
   "id": "88156e8e",
   "metadata": {},
   "source": [
    "### 데이터 불러 오기"
   ]
  },
  {
   "cell_type": "code",
   "execution_count": null,
   "id": "6e28a6ae",
   "metadata": {},
   "outputs": [],
   "source": [
    "# dataset 불러오기 (pandas, numpy, matplotlib)"
   ]
  },
  {
   "cell_type": "code",
   "execution_count": null,
   "id": "b1ab074f",
   "metadata": {},
   "outputs": [],
   "source": [
    "import pandas as pd\n",
    "import numpy as np\n",
    "import matplotlib as plt"
   ]
  },
  {
   "cell_type": "code",
   "execution_count": null,
   "id": "cac8c73e",
   "metadata": {},
   "outputs": [],
   "source": [
    "# jupyter에서 matplotlib의 결과를 아래 바로 보이도록 설정"
   ]
  },
  {
   "cell_type": "code",
   "execution_count": null,
   "id": "3b30179f",
   "metadata": {},
   "outputs": [],
   "source": [
    "%matplotlib inline"
   ]
  },
  {
   "cell_type": "code",
   "execution_count": null,
   "id": "cad538ca",
   "metadata": {},
   "outputs": [],
   "source": [
    "# 다운로드 받은 데이터를 pandas의 dataframe형태로 읽어 오기"
   ]
  },
  {
   "cell_type": "code",
   "execution_count": null,
   "id": "2774ca10",
   "metadata": {},
   "outputs": [],
   "source": [
    "df = pd.read_csv(\"examples/loan.csv\")"
   ]
  },
  {
   "cell_type": "markdown",
   "id": "c2f12adb",
   "metadata": {},
   "source": [
    "### 데이터 훑어보기"
   ]
  },
  {
   "cell_type": "code",
   "execution_count": null,
   "id": "4d4bb35f",
   "metadata": {},
   "outputs": [],
   "source": [
    "# head() 함수를 통해 데이터 top 5를 출력\n",
    "df.head()"
   ]
  },
  {
   "cell_type": "code",
   "execution_count": null,
   "id": "bebd901a",
   "metadata": {},
   "outputs": [],
   "source": [
    "# info 함수를 통해 데이터의 정보를 확인"
   ]
  },
  {
   "cell_type": "code",
   "execution_count": null,
   "id": "099d54a9",
   "metadata": {},
   "outputs": [],
   "source": [
    "df.info()"
   ]
  },
  {
   "cell_type": "code",
   "execution_count": null,
   "id": "acd894e4",
   "metadata": {},
   "outputs": [],
   "source": [
    "# describe() 함수를 통해 numerical 데이터의 요약을 확인"
   ]
  },
  {
   "cell_type": "code",
   "execution_count": null,
   "id": "e5307ddc",
   "metadata": {},
   "outputs": [],
   "source": [
    "df.describe()"
   ]
  },
  {
   "cell_type": "code",
   "execution_count": null,
   "id": "e47d366d",
   "metadata": {},
   "outputs": [],
   "source": [
    "# 데이터 요약으로부터 알 수 있는 점\n",
    "# 1. LoanAmount의 count를 보면 다른 column의 count보다 개수가 부족, (614-692) 22 missing value\n",
    "# 2. Loan_Amount_Term, Credit_History의 값도 LoanAmount와 동일하게 missing values 발생\n",
    "# 3. Credit_History의 경우 값(0,1)을 갖고 있기 때문에, 평균(84%)는 credit_history를 갖고 있다. "
   ]
  },
  {
   "cell_type": "code",
   "execution_count": null,
   "id": "19d0db1c",
   "metadata": {},
   "outputs": [],
   "source": [
    "# non-numerical 데이터의 분포 확인 (Gender, Married, Dependents, Education, \n",
    "#                                  Self_Employed, Property_Area, Loan_Status)"
   ]
  },
  {
   "cell_type": "code",
   "execution_count": null,
   "id": "f3a78a0b",
   "metadata": {},
   "outputs": [],
   "source": [
    "df['Gender'].value_counts()"
   ]
  },
  {
   "cell_type": "code",
   "execution_count": null,
   "id": "1bd15f16",
   "metadata": {},
   "outputs": [],
   "source": [
    "df['Married'].value_counts()"
   ]
  },
  {
   "cell_type": "code",
   "execution_count": null,
   "id": "dfab8517",
   "metadata": {},
   "outputs": [],
   "source": [
    "df['Dependents'].value_counts()"
   ]
  },
  {
   "cell_type": "code",
   "execution_count": null,
   "id": "ae8b012e",
   "metadata": {},
   "outputs": [],
   "source": [
    "df['Education'].value_counts()"
   ]
  },
  {
   "cell_type": "code",
   "execution_count": null,
   "id": "3bef3a24",
   "metadata": {},
   "outputs": [],
   "source": [
    "df['Self_Employed'].value_counts()"
   ]
  },
  {
   "cell_type": "code",
   "execution_count": null,
   "id": "bf775ea0",
   "metadata": {},
   "outputs": [],
   "source": [
    "df['Property_Area'].value_counts()"
   ]
  },
  {
   "cell_type": "code",
   "execution_count": null,
   "id": "fada571e",
   "metadata": {},
   "outputs": [],
   "source": [
    "df['Loan_Status'].value_counts()"
   ]
  },
  {
   "cell_type": "code",
   "execution_count": null,
   "id": "6afa619c",
   "metadata": {},
   "outputs": [],
   "source": [
    "# Numerical 데이터의 분포 분석 (ApplicantIncome, CoapplicantIncome, \n",
    "#                              LoanAmount, Loan_Amount_Term, Credit_History )"
   ]
  },
  {
   "cell_type": "code",
   "execution_count": null,
   "id": "ca5036ba",
   "metadata": {},
   "outputs": [],
   "source": [
    "df['ApplicantIncome'].hist(bins=50)"
   ]
  },
  {
   "cell_type": "code",
   "execution_count": null,
   "id": "7446e4d0",
   "metadata": {},
   "outputs": [],
   "source": [
    "df['CoapplicantIncome'].hist(bins=50)"
   ]
  },
  {
   "cell_type": "code",
   "execution_count": null,
   "id": "b85e7f22",
   "metadata": {},
   "outputs": [],
   "source": [
    "df['LoanAmount'].hist(bins=50)"
   ]
  },
  {
   "cell_type": "code",
   "execution_count": null,
   "id": "fc89e86c",
   "metadata": {},
   "outputs": [],
   "source": [
    "df['Loan_Amount_Term'].hist(bins=50)"
   ]
  },
  {
   "cell_type": "code",
   "execution_count": null,
   "id": "74a05f98",
   "metadata": {},
   "outputs": [],
   "source": [
    "df['Credit_History'].hist(bins=50)"
   ]
  },
  {
   "cell_type": "markdown",
   "id": "359c0ba1",
   "metadata": {},
   "source": [
    "### 누락치 처리"
   ]
  },
  {
   "cell_type": "code",
   "execution_count": null,
   "id": "6848fffd",
   "metadata": {},
   "outputs": [],
   "source": [
    "# 특성별 누락치 수 확인하기"
   ]
  },
  {
   "cell_type": "code",
   "execution_count": null,
   "id": "4b778d7c",
   "metadata": {},
   "outputs": [],
   "source": [
    "df.apply(lambda x: sum(x.isnull()), axis=0)"
   ]
  },
  {
   "cell_type": "code",
   "execution_count": null,
   "id": "3c909512",
   "metadata": {},
   "outputs": [],
   "source": [
    "# df['Gender'].isnull().sum()"
   ]
  },
  {
   "cell_type": "code",
   "execution_count": null,
   "id": "07b104ed",
   "metadata": {},
   "outputs": [],
   "source": [
    "# Numeric 데이터의 누락치 : 평균값으로 채우기"
   ]
  },
  {
   "cell_type": "code",
   "execution_count": null,
   "id": "107082e2",
   "metadata": {},
   "outputs": [],
   "source": [
    "df['LoanAmount'].fillna(df['LoanAmount'].mean(), inplace=True)\n",
    "df['Loan_Amount_Term'].fillna(df['Loan_Amount_Term'].mean(), inplace=True)\n",
    "df['Credit_History'].fillna(1.0, inplace=True)"
   ]
  },
  {
   "cell_type": "code",
   "execution_count": null,
   "id": "fc0cb37c",
   "metadata": {},
   "outputs": [],
   "source": [
    "# Non-Numeric 데이터의 누락치 : 최빈값으로 채우기"
   ]
  },
  {
   "cell_type": "code",
   "execution_count": null,
   "id": "c95f7588",
   "metadata": {},
   "outputs": [],
   "source": [
    "df['Gender'].fillna(df['Gender'].value_counts().index[0], inplace=True)\n",
    "df['Married'].fillna(df['Married'].value_counts().index[0], inplace=True)\n",
    "df['Dependents'].fillna(df['Dependents'].value_counts().index[0], inplace=True)\n",
    "df['Self_Employed'].fillna(df['Self_Employed'].value_counts().index[0], inplace=True)"
   ]
  },
  {
   "cell_type": "code",
   "execution_count": null,
   "id": "4bcac343",
   "metadata": {},
   "outputs": [],
   "source": [
    "# df['Gender'].fillna('Male', inplace=True)"
   ]
  },
  {
   "cell_type": "code",
   "execution_count": null,
   "id": "157f5db1",
   "metadata": {},
   "outputs": [],
   "source": [
    "# 누락치가 있는지 다시 확인하기"
   ]
  },
  {
   "cell_type": "code",
   "execution_count": null,
   "id": "c764f6ab",
   "metadata": {},
   "outputs": [],
   "source": [
    "df.apply(lambda x: sum(x.isnull()), axis=0)"
   ]
  },
  {
   "cell_type": "code",
   "execution_count": null,
   "id": "a529edda",
   "metadata": {},
   "outputs": [],
   "source": [
    "# df.isnull().any()\n",
    "# df.isnull().sum()"
   ]
  },
  {
   "cell_type": "markdown",
   "id": "a60546bf",
   "metadata": {},
   "source": [
    "### Outlier 영향 없애기 : Numeric 데이터 로그 변환"
   ]
  },
  {
   "cell_type": "code",
   "execution_count": null,
   "id": "49d0f3e8",
   "metadata": {},
   "outputs": [],
   "source": [
    "# ApplicantIncome, CoapplicantIncome, LoadAmount"
   ]
  },
  {
   "cell_type": "code",
   "execution_count": null,
   "id": "413377f3",
   "metadata": {},
   "outputs": [],
   "source": [
    "df['LoanAmount_log'] = np.log1p(df['LoanAmount'])\n",
    "df['LoanAmount_log'].hist(bins=20)"
   ]
  },
  {
   "cell_type": "code",
   "execution_count": null,
   "id": "208b3352",
   "metadata": {},
   "outputs": [],
   "source": [
    "df['ApplicantIncome_log'] = np.log1p(df['ApplicantIncome'])\n",
    "df['ApplicantIncome_log'].hist(bins=20)"
   ]
  },
  {
   "cell_type": "code",
   "execution_count": null,
   "id": "edac6243",
   "metadata": {},
   "outputs": [],
   "source": [
    "df['CoapplicantIncome_log'] = np.log1p(df['CoapplicantIncome'])\n",
    "df['CoapplicantIncome_log'].hist()"
   ]
  },
  {
   "cell_type": "markdown",
   "id": "4aea33d2",
   "metadata": {},
   "source": [
    "### Non-Numeric 데이터 처리"
   ]
  },
  {
   "cell_type": "code",
   "execution_count": null,
   "id": "f465d2c3",
   "metadata": {},
   "outputs": [],
   "source": [
    "# 원핫 인코딩 하기"
   ]
  },
  {
   "cell_type": "code",
   "execution_count": null,
   "id": "905f719b",
   "metadata": {},
   "outputs": [],
   "source": [
    "# from sklearn.preprocessing import LabelEncoder\n",
    "# cat_data = ['Gender', 'Married', 'Dependents', 'Education', 'Self_Employed', 'Property_Area']\n",
    "# encoder = LabelEncoder()\n",
    "# for i in cat_data:\n",
    "#    df[i] = encoder.fit_transform(df[i])\n",
    "# df.dtypes "
   ]
  },
  {
   "cell_type": "code",
   "execution_count": null,
   "id": "ee0f785c",
   "metadata": {},
   "outputs": [],
   "source": [
    "cat_data = ['Gender', 'Married', 'Dependents', 'Education', 'Self_Employed', 'Property_Area']\n",
    "cat = pd.get_dummies(df[cat_data])"
   ]
  },
  {
   "cell_type": "code",
   "execution_count": null,
   "id": "366699a8",
   "metadata": {},
   "outputs": [],
   "source": [
    "cat.head()"
   ]
  },
  {
   "cell_type": "code",
   "execution_count": null,
   "id": "3c0e0052",
   "metadata": {},
   "outputs": [],
   "source": [
    "# df와 cat을 concat 해서 data 데이터프레임 생성"
   ]
  },
  {
   "cell_type": "code",
   "execution_count": null,
   "id": "7df89309",
   "metadata": {},
   "outputs": [],
   "source": [
    "data = pd.concat([df, cat], axis=1)\n",
    "data.info()"
   ]
  },
  {
   "cell_type": "markdown",
   "id": "905dc0cc",
   "metadata": {},
   "source": [
    "### 데이터 타깃 분리"
   ]
  },
  {
   "cell_type": "code",
   "execution_count": null,
   "id": "65e443da",
   "metadata": {},
   "outputs": [],
   "source": [
    "# 불필요한 컬럼 삭제"
   ]
  },
  {
   "cell_type": "code",
   "execution_count": null,
   "id": "3c89019c",
   "metadata": {},
   "outputs": [],
   "source": [
    "data.drop(cat_data, axis=1, inplace=True)"
   ]
  },
  {
   "cell_type": "code",
   "execution_count": null,
   "id": "ab52ceed",
   "metadata": {},
   "outputs": [],
   "source": [
    "data.drop(['Loan_ID','LoanAmount', 'ApplicantIncome', 'CoapplicantIncome'],axis=1, inplace=True)"
   ]
  },
  {
   "cell_type": "code",
   "execution_count": null,
   "id": "4d6d4592",
   "metadata": {},
   "outputs": [],
   "source": [
    "data.info()"
   ]
  },
  {
   "cell_type": "code",
   "execution_count": null,
   "id": "0fd6b342",
   "metadata": {},
   "outputs": [],
   "source": [
    "# 타겟 Series 만들기"
   ]
  },
  {
   "cell_type": "code",
   "execution_count": null,
   "id": "86429eb9",
   "metadata": {},
   "outputs": [],
   "source": [
    "target = data['Loan_Status'].copy()"
   ]
  },
  {
   "cell_type": "code",
   "execution_count": null,
   "id": "5854bed2",
   "metadata": {},
   "outputs": [],
   "source": [
    "# 데이터에서 타켓 제거"
   ]
  },
  {
   "cell_type": "code",
   "execution_count": null,
   "id": "57a982ea",
   "metadata": {},
   "outputs": [],
   "source": [
    "data.drop('Loan_Status', axis=1, inplace=True)"
   ]
  },
  {
   "cell_type": "markdown",
   "id": "99df2e7f",
   "metadata": {},
   "source": [
    "### 트레이닝, 테스트 세트 나누기"
   ]
  },
  {
   "cell_type": "code",
   "execution_count": null,
   "id": "586325ec",
   "metadata": {},
   "outputs": [],
   "source": [
    "X_train = data\n",
    "y_train = target"
   ]
  },
  {
   "cell_type": "code",
   "execution_count": null,
   "id": "92b1e4fd",
   "metadata": {},
   "outputs": [],
   "source": [
    "#from sklearn.model_selection import train_test_split  # 데이터 세트 분리\n",
    "#X_train, X_test, y_train, y_test = train_test_split(data, \n",
    "#                                                    target, \n",
    "#                                                    test_size=0.2, random_state=11)"
   ]
  },
  {
   "cell_type": "code",
   "execution_count": null,
   "id": "4f22e0a0",
   "metadata": {},
   "outputs": [],
   "source": [
    "print(X_train.shape)\n",
    "print(X_test.shape)\n",
    "print(y_train.shape)\n",
    "print(y_test.shape)"
   ]
  },
  {
   "cell_type": "markdown",
   "id": "f0f28091",
   "metadata": {},
   "source": [
    "### 분류 모델 훈련"
   ]
  },
  {
   "cell_type": "code",
   "execution_count": null,
   "id": "17b01ef5",
   "metadata": {},
   "outputs": [],
   "source": [
    "# 모델 import 하기"
   ]
  },
  {
   "cell_type": "code",
   "execution_count": null,
   "id": "99b8642a",
   "metadata": {},
   "outputs": [],
   "source": [
    "from sklearn.linear_model import LogisticRegression\n",
    "from sklearn.linear_model import SGDClassifier\n",
    "from sklearn.neighbors import KNeighborsClassifier\n",
    "from sklearn.svm import SVC\n",
    "from sklearn.tree import DecisionTreeClassifier\n",
    "from sklearn.ensemble import RandomForestClassifier\n"
   ]
  },
  {
   "cell_type": "code",
   "execution_count": null,
   "id": "7aebe5f0",
   "metadata": {},
   "outputs": [],
   "source": [
    "# 교차검증을 위한 cross_val_predict import 하기\n",
    "# 분류 성능 평가를 위한 지표 함수 import 하기"
   ]
  },
  {
   "cell_type": "code",
   "execution_count": null,
   "id": "879851bf",
   "metadata": {},
   "outputs": [],
   "source": [
    "from sklearn.model_selection import cross_val_predict\n",
    "from sklearn.metrics import classification_report\n",
    "#from sklearn.metrics import precision_score, recall_score, f1_score, roc_curve, roc_auc_score "
   ]
  },
  {
   "cell_type": "code",
   "execution_count": null,
   "id": "56b9cee4",
   "metadata": {},
   "outputs": [],
   "source": [
    "# LogisticRegression 에 의한 훈련 및 예측"
   ]
  },
  {
   "cell_type": "code",
   "execution_count": null,
   "id": "29d3b729",
   "metadata": {
    "scrolled": true
   },
   "outputs": [],
   "source": [
    "lr_model = LogisticRegression()\n",
    "lr_pred = cross_val_predict(lr_model, X_train, y_train, cv=3)\n",
    "print(classification_report(y_train, lr_pred))\n",
    "\n",
    "lr_scores = cross_val_predict(lr_model, X_train, y_train, cv=3, method='decision_function')\n",
    "print(\"ROC Score : \", roc_auc_score(y_train, lr_scores))"
   ]
  },
  {
   "cell_type": "code",
   "execution_count": null,
   "id": "f3e95ce8",
   "metadata": {},
   "outputs": [],
   "source": [
    "# SGDClassifier에 의한 훈련 및 예측"
   ]
  },
  {
   "cell_type": "code",
   "execution_count": null,
   "id": "439df87b",
   "metadata": {},
   "outputs": [],
   "source": [
    "sgd_model = SGDClassifier()\n",
    "sgd_pred = cross_val_predict(sgd_model, X_train, y_train, cv=3)\n",
    "print(classification_report(y_train, lr_pred))\n",
    "sgd_scores = cross_val_predict(sgd_model, X_train, y_train, cv=3, method='decision_function')\n",
    "print(\"ROC Score : \", roc_auc_score(y_train, sgd_scores))"
   ]
  },
  {
   "cell_type": "code",
   "execution_count": null,
   "id": "050f7334",
   "metadata": {},
   "outputs": [],
   "source": [
    "# KNeighborsClassifier에 의한 훈련 및 예측"
   ]
  },
  {
   "cell_type": "code",
   "execution_count": null,
   "id": "4d064250",
   "metadata": {},
   "outputs": [],
   "source": [
    "knn_model = KNeighborsClassifier()\n",
    "knn_pred = cross_val_predict(knn_model, X_train, y_train, cv=3)\n",
    "print(classification_report(y_train, lr_pred))\n",
    "knn_scores = cross_val_predict(knn_model, X_train, y_train, cv=3, method='predict_proba')\n",
    "print(\"ROC Score : \", roc_auc_score(y_train, knn_scores[:,1]))"
   ]
  },
  {
   "cell_type": "code",
   "execution_count": null,
   "id": "ecfbe555",
   "metadata": {},
   "outputs": [],
   "source": [
    "# SVC에 의한 훈련 및 예측"
   ]
  },
  {
   "cell_type": "code",
   "execution_count": null,
   "id": "2e444481",
   "metadata": {},
   "outputs": [],
   "source": [
    "svc_model = SVC()\n",
    "svc_pred = cross_val_predict(svc_model, X_train, y_train, cv=3)\n",
    "print(classification_report(y_train, lr_pred))\n",
    "svc_scores = cross_val_predict(svc_model, X_train, y_train, cv=3, method='decision_function')\n",
    "print(\"ROC Score : \", roc_auc_score(y_train, svc_scores))"
   ]
  },
  {
   "cell_type": "code",
   "execution_count": null,
   "id": "fab678d6",
   "metadata": {},
   "outputs": [],
   "source": [
    "# DecisionTreeClassifier에 의한 훈련 및 예측"
   ]
  },
  {
   "cell_type": "code",
   "execution_count": null,
   "id": "7ac72b4e",
   "metadata": {},
   "outputs": [],
   "source": [
    "dt_model = DecisionTreeClassifier()\n",
    "dt_pred = cross_val_predict(dt_model, X_train, y_train, cv=3)\n",
    "print(classification_report(y_train, lr_pred))\n",
    "dt_scores = cross_val_predict(dt_model, X_train, y_train, cv=3, method='predict_proba')\n",
    "print(\"ROC Score : \", roc_auc_score(y_train, dt_scores[:,1]))"
   ]
  },
  {
   "cell_type": "code",
   "execution_count": null,
   "id": "64cd3efd",
   "metadata": {},
   "outputs": [],
   "source": [
    "# RandomForestClassifier에 의한 훈련 및 예측"
   ]
  },
  {
   "cell_type": "code",
   "execution_count": null,
   "id": "03816e64",
   "metadata": {},
   "outputs": [],
   "source": [
    "rf_model = RandomForestClassifier()\n",
    "rf_pred = cross_val_predict(rf_model, X_train, y_train, cv=3)\n",
    "print(classification_report(y_train, lr_pred))\n",
    "rf_scores = cross_val_predict(rf_model, X_train, y_train, cv=3, method='predict_proba')\n",
    "print(\"ROC Score : \", roc_auc_score(y_train, rf_scores[:,1]))"
   ]
  },
  {
   "cell_type": "markdown",
   "id": "67342ad8",
   "metadata": {},
   "source": [
    "### 모델 성능 향상"
   ]
  },
  {
   "cell_type": "code",
   "execution_count": null,
   "id": "6df4d98c",
   "metadata": {},
   "outputs": [],
   "source": [
    "from sklearn.model_selection import GridSearchCV"
   ]
  },
  {
   "cell_type": "code",
   "execution_count": null,
   "id": "0e49ed4f",
   "metadata": {},
   "outputs": [],
   "source": [
    "# LogisticRegression"
   ]
  },
  {
   "cell_type": "code",
   "execution_count": null,
   "id": "9f260331",
   "metadata": {},
   "outputs": [],
   "source": [
    "parameters= {'C' : [0.01, 0.1, 1, 10, 100, 1000],\n",
    "            'max_iter' : [1000, 10000]}\n",
    "grid_lr = GridSearchCV(lr_model, param_grid=parameters, cv=3)\n",
    "grid_lr.fit(X_train, y_train)"
   ]
  },
  {
   "cell_type": "code",
   "execution_count": null,
   "id": "df818dc6",
   "metadata": {},
   "outputs": [],
   "source": [
    "grid_lr.best_estimator_"
   ]
  },
  {
   "cell_type": "code",
   "execution_count": null,
   "id": "44ac01e4",
   "metadata": {},
   "outputs": [],
   "source": [
    "lr_model = LogisticRegression(C=1, max_iter=1000)\n",
    "lr_pred = cross_val_predict(lr_model, X_train, y_train, cv=3)\n",
    "print(classification_report(y_train, lr_pred))\n",
    "\n",
    "lr_scores = cross_val_predict(lr_model, X_train, y_train, cv=3, method='decision_function')\n",
    "print(\"ROC Score : \", roc_auc_score(y_train, lr_scores))"
   ]
  },
  {
   "cell_type": "code",
   "execution_count": null,
   "id": "7c44943d",
   "metadata": {},
   "outputs": [],
   "source": [
    "# SGDClassifier alpha  l1_ration"
   ]
  },
  {
   "cell_type": "code",
   "execution_count": null,
   "id": "2c477331",
   "metadata": {},
   "outputs": [],
   "source": [
    "parameters= {'alpha' : [0.0001, 0.001, 0.01, 0.1, 1, 10, 100, 1000],\n",
    "            'l1_ratio' : [0.15, 0.4, 0.8]}\n",
    "grid_sgd = GridSearchCV(sgd_model, param_grid=parameters, cv=3)\n",
    "grid_sgd.fit(X_train, y_train)"
   ]
  },
  {
   "cell_type": "code",
   "execution_count": null,
   "id": "d4bb88e1",
   "metadata": {},
   "outputs": [],
   "source": [
    "grid_sgd.best_estimator_"
   ]
  },
  {
   "cell_type": "code",
   "execution_count": null,
   "id": "6f34e17c",
   "metadata": {},
   "outputs": [],
   "source": [
    "sgd_model = SGDClassifier(alpha=10, l1_ratio=0.8)\n",
    "sgd_pred = cross_val_predict(sgd_model, X_train, y_train, cv=3)\n",
    "print(classification_report(y_train, sgd_pred))\n",
    "\n",
    "sgd_scores = cross_val_predict(sgd_model, X_train, y_train, cv=3, method='decision_function')\n",
    "print(\"ROC Score : \", roc_auc_score(y_train, sgd_scores))"
   ]
  },
  {
   "cell_type": "code",
   "execution_count": null,
   "id": "7ffbc9e7",
   "metadata": {},
   "outputs": [],
   "source": [
    "# KNeighborsClassifier"
   ]
  },
  {
   "cell_type": "code",
   "execution_count": null,
   "id": "6188ca31",
   "metadata": {},
   "outputs": [],
   "source": [
    "parameters= {'n_neighbors' : [1, 2, 3, 4, 5] }\n",
    "grid_knn = GridSearchCV(knn_model, param_grid=parameters, cv=3)\n",
    "grid_knn.fit(X_train, y_train)"
   ]
  },
  {
   "cell_type": "code",
   "execution_count": null,
   "id": "0b78ee8b",
   "metadata": {},
   "outputs": [],
   "source": [
    "grid_knn.best_estimator_"
   ]
  },
  {
   "cell_type": "code",
   "execution_count": null,
   "id": "8a04c3a1",
   "metadata": {},
   "outputs": [],
   "source": [
    "knn_model = KNeighborsClassifier(n_neighbors=1)\n",
    "knn_pred = cross_val_predict(knn_model, X_train, y_train, cv=3)\n",
    "print(classification_report(y_train, lr_pred))\n",
    "knn_scores = cross_val_predict(knn_model, X_train, y_train, cv=3, method='predict_proba')\n",
    "print(\"ROC Score : \", roc_auc_score(y_train, knn_scores[:,1]))"
   ]
  },
  {
   "cell_type": "code",
   "execution_count": null,
   "id": "2b56ba20",
   "metadata": {},
   "outputs": [],
   "source": [
    "# SVC "
   ]
  },
  {
   "cell_type": "code",
   "execution_count": null,
   "id": "8bb85082",
   "metadata": {},
   "outputs": [],
   "source": [
    "parameters= {'C' : [0.001, 0.01, 0.1, 1, 10, 100, 1000],\n",
    "            'degree' : [2,3,4]}\n",
    "grid_svc = GridSearchCV(svc_model, param_grid=parameters, cv=3)\n",
    "grid_svc.fit(X_train, y_train)"
   ]
  },
  {
   "cell_type": "code",
   "execution_count": null,
   "id": "88f41b7b",
   "metadata": {},
   "outputs": [],
   "source": [
    "grid_svc.best_estimator_"
   ]
  },
  {
   "cell_type": "code",
   "execution_count": null,
   "id": "09e0ebfa",
   "metadata": {},
   "outputs": [],
   "source": [
    "svc_model = SVC(C=0.001, degree=2)\n",
    "svc_pred = cross_val_predict(svc_model, X_train, y_train, cv=3)\n",
    "print(classification_report(y_train, lr_pred))\n",
    "svc_scores = cross_val_predict(svc_model, X_train, y_train, cv=3, method='decision_function')\n",
    "print(\"ROC Score : \", roc_auc_score(y_train, svc_scores))"
   ]
  },
  {
   "cell_type": "code",
   "execution_count": null,
   "id": "09a1d512",
   "metadata": {},
   "outputs": [],
   "source": [
    "# StandardScaler 적용"
   ]
  },
  {
   "cell_type": "code",
   "execution_count": null,
   "id": "178e6a5e",
   "metadata": {},
   "outputs": [],
   "source": [
    "from sklearn.preprocessing import StandardScaler\n",
    "scaler = StandardScaler()\n",
    "X_train_scaled = scaler.fit_transform(X_train)"
   ]
  },
  {
   "cell_type": "code",
   "execution_count": null,
   "id": "2d1c74a9",
   "metadata": {},
   "outputs": [],
   "source": [
    "svc_pred = cross_val_predict(svc_model, X_train_scaled, y_train, cv=3)\n",
    "print(classification_report(y_train, lr_pred))\n",
    "svc_scores = cross_val_predict(svc_model, X_train_scaled, y_train, cv=3, method='decision_function')\n",
    "print(\"ROC Score : \", roc_auc_score(y_train, svc_scores))"
   ]
  },
  {
   "cell_type": "code",
   "execution_count": null,
   "id": "d2b87010",
   "metadata": {},
   "outputs": [],
   "source": [
    "# DecisionTreeClassifier"
   ]
  },
  {
   "cell_type": "code",
   "execution_count": null,
   "id": "78b8cff1",
   "metadata": {},
   "outputs": [],
   "source": [
    "parameters= {'criterion' : [\"gini\", \"entropy\"],\n",
    "            'min_samples_split' : [2, 3, 4]}\n",
    "grid_dt = GridSearchCV(dt_model, param_grid=parameters, cv=3)\n",
    "grid_dt.fit(X_train, y_train)"
   ]
  },
  {
   "cell_type": "code",
   "execution_count": null,
   "id": "641432aa",
   "metadata": {},
   "outputs": [],
   "source": [
    "grid_dt.best_estimator_"
   ]
  },
  {
   "cell_type": "code",
   "execution_count": null,
   "id": "086ce656",
   "metadata": {},
   "outputs": [],
   "source": [
    "dt_model = DecisionTreeClassifier(min_samples_split=3)\n",
    "dt_pred = cross_val_predict(dt_model, X_train, y_train, cv=3)\n",
    "print(classification_report(y_train, lr_pred))\n",
    "dt_scores = cross_val_predict(dt_model, X_train, y_train, cv=3, method='predict_proba')\n",
    "print(\"ROC Score : \", roc_auc_score(y_train, dt_scores[:,1]))"
   ]
  },
  {
   "cell_type": "code",
   "execution_count": null,
   "id": "65c28326",
   "metadata": {},
   "outputs": [],
   "source": [
    "#RandomForestClassifier?  n_estimators=100 min_samples_split=2,"
   ]
  },
  {
   "cell_type": "code",
   "execution_count": null,
   "id": "2b912893",
   "metadata": {},
   "outputs": [],
   "source": [
    "parameters= {'n_estimators' : [100,200],\n",
    "            'min_samples_split' : [2, 4, 6]}\n",
    "grid_rf = GridSearchCV(rf_model, param_grid=parameters, cv=3)\n",
    "grid_rf.fit(X_train, y_train)"
   ]
  },
  {
   "cell_type": "code",
   "execution_count": null,
   "id": "36c09e79",
   "metadata": {},
   "outputs": [],
   "source": [
    "grid_rf.best_estimator_"
   ]
  },
  {
   "cell_type": "code",
   "execution_count": null,
   "id": "a5051ae6",
   "metadata": {},
   "outputs": [],
   "source": [
    "rf_model = RandomForestClassifier(min_samples_split=6)\n",
    "rf_pred = cross_val_predict(rf_model, X_train, y_train, cv=3)\n",
    "print(classification_report(y_train, rf_pred))\n",
    "rf_scores = cross_val_predict(rf_model, X_train, y_train, cv=3, method='predict_proba')\n",
    "print(\"ROC Score : \", roc_auc_score(y_train, rf_scores[:,1]))"
   ]
  },
  {
   "cell_type": "code",
   "execution_count": null,
   "id": "e2f22cf2",
   "metadata": {},
   "outputs": [],
   "source": [
    "# 중요한 특성 찾기"
   ]
  },
  {
   "cell_type": "code",
   "execution_count": null,
   "id": "a35047a0",
   "metadata": {},
   "outputs": [],
   "source": [
    "grid_rf.best_estimator_.feature_importances_"
   ]
  },
  {
   "cell_type": "code",
   "execution_count": null,
   "id": "f936bd96",
   "metadata": {},
   "outputs": [],
   "source": [
    "X_train_features = X_train[['Credit_History', 'LoanAmount_log', 'ApplicantIncome_log', 'CoapplicantIncome_log']]"
   ]
  },
  {
   "cell_type": "code",
   "execution_count": null,
   "id": "c3ecac6a",
   "metadata": {},
   "outputs": [],
   "source": [
    "rf_model = RandomForestClassifier(min_samples_split=6)\n",
    "rf_pred = cross_val_predict(rf_model, X_train_features, y_train, cv=3)\n",
    "print(classification_report(y_train, rf_pred))\n",
    "rf_scores = cross_val_predict(rf_model, X_train_features, y_train, cv=3, method='predict_proba')\n",
    "print(\"ROC Score : \", roc_auc_score(y_train, rf_scores[:,1]))"
   ]
  },
  {
   "cell_type": "code",
   "execution_count": null,
   "id": "2d199d8b",
   "metadata": {},
   "outputs": [],
   "source": []
  }
 ],
 "metadata": {
  "kernelspec": {
   "display_name": "Python 3",
   "language": "python",
   "name": "python3"
  },
  "language_info": {
   "codemirror_mode": {
    "name": "ipython",
    "version": 3
   },
   "file_extension": ".py",
   "mimetype": "text/x-python",
   "name": "python",
   "nbconvert_exporter": "python",
   "pygments_lexer": "ipython3",
   "version": "3.8.8"
  }
 },
 "nbformat": 4,
 "nbformat_minor": 5
}
