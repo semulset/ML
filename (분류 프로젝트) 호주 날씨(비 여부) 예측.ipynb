{
 "cells": [
  {
   "cell_type": "markdown",
   "id": "9c5a0427",
   "metadata": {},
   "source": [
    "# 분류 프로젝트"
   ]
  },
  {
   "cell_type": "markdown",
   "id": "15b1bb44",
   "metadata": {},
   "source": [
    "### Rain in Australia"
   ]
  },
  {
   "cell_type": "markdown",
   "id": "ddee6ec3",
   "metadata": {},
   "source": [
    "- 호주 기상청에서 2010년에 발표한 데이터셋\n",
    "- 목표 : 내일 비가 올지 안 올지를 예측\n",
    "- 제공된 데이터셋(weather.csv)은 사전에 편집되었음\n",
    "- 샘플 수 : 3011개\n",
    "- 성능 지표 : accuracy\n",
    "\n",
    "- 분류 모델의 성능을 비교하고 예측성능이 가장 좋은 모델을 제시하세요."
   ]
  },
  {
   "cell_type": "markdown",
   "id": "90f3edcd",
   "metadata": {},
   "source": [
    "### 주의 사항\n",
    "- 주피터노트북은 \"프로젝트_분류_문현주.ipynb\" 형식으로 저장하여 제출하세요."
   ]
  },
  {
   "cell_type": "markdown",
   "id": "eade38e5",
   "metadata": {},
   "source": [
    "### 평가 기준\n",
    "- 데이터 분석\n",
    "- 데이터 전처리\n",
    "- 모델 생성 및 훈련\n",
    "- 성능 비교 및 분석\n",
    "- 모델 성능 향상\n",
    "- 문서화"
   ]
  }
 ],
 "metadata": {
  "kernelspec": {
   "display_name": "Python 3",
   "language": "python",
   "name": "python3"
  },
  "language_info": {
   "codemirror_mode": {
    "name": "ipython",
    "version": 3
   },
   "file_extension": ".py",
   "mimetype": "text/x-python",
   "name": "python",
   "nbconvert_exporter": "python",
   "pygments_lexer": "ipython3",
   "version": "3.8.8"
  }
 },
 "nbformat": 4,
 "nbformat_minor": 5
}
