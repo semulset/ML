{
 "cells": [
  {
   "cell_type": "code",
   "execution_count": null,
   "id": "4088182d",
   "metadata": {},
   "outputs": [],
   "source": [
    "import pandas as pd\n",
    "from sklearn.preprocessing import OneHotEncoder\n",
    "from sklearn.linear_model import LinearRegression\n",
    "import numpy as np\n",
    "from matplotlib import font_manager, rc\n",
    "import matplotlib as mpl\n",
    "import matplotlib.pyplot as plt\n",
    "import platform\n",
    "\n",
    "# 그래프에서 한글 표현과 마이너스 폰트 깨지는 문제에 대한 대처\n",
    "if platform.system() == 'Windows':\n",
    "    font_name=font_manager.FontProperties(fname=\"c:/Windows/Fonts/malgun.ttf\").get_name()\n",
    "    rc('font', family=font_name)\n",
    "else:\n",
    "     rc('font', family='AppleGothic')   \n",
    "        \n",
    "mpl.rcParams['axes.unicode_minus'] = False\n"
   ]
  },
  {
   "cell_type": "code",
   "execution_count": null,
   "id": "56a1b917",
   "metadata": {},
   "outputs": [],
   "source": [
    "# 데이터 준비"
   ]
  },
  {
   "cell_type": "code",
   "execution_count": null,
   "id": "db2169f1",
   "metadata": {},
   "outputs": [],
   "source": [
    "train_df = pd.read_excel('examples/carprice.xlsx', sheet_name='train')\n",
    "test_df = pd.read_excel('examples/carprice.xlsx', sheet_name='test')\n"
   ]
  },
  {
   "cell_type": "code",
   "execution_count": null,
   "id": "c63e9ce8",
   "metadata": {},
   "outputs": [],
   "source": [
    "train_df.head()"
   ]
  },
  {
   "cell_type": "code",
   "execution_count": null,
   "id": "4003c7c9",
   "metadata": {},
   "outputs": [],
   "source": [
    "train_df.describe()"
   ]
  },
  {
   "cell_type": "code",
   "execution_count": null,
   "id": "62fcbb91",
   "metadata": {},
   "outputs": [],
   "source": [
    "x_train = train_df.drop(['가격'], axis=1)\n",
    "x_test = test_df.drop(['가격'], axis=1)\n",
    "y_train = train_df['가격']\n",
    "y_test = test_df['가격']\n"
   ]
  },
  {
   "cell_type": "code",
   "execution_count": null,
   "id": "5e99611e",
   "metadata": {},
   "outputs": [],
   "source": [
    "x_train['변속기'].value_counts()"
   ]
  },
  {
   "cell_type": "code",
   "execution_count": null,
   "id": "44b2282c",
   "metadata": {},
   "outputs": [],
   "source": [
    "from sklearn.compose import ColumnTransformer\n",
    "\n",
    "c_t = ColumnTransformer([('cat', OneHotEncoder(), ['종류', '연료', '변속기']),], \n",
    "                        remainder='passthrough' )\n",
    "x_train_c = c_t.fit_transform(x_train)\n",
    "x_test_c = c_t.fit_transform(x_test)"
   ]
  },
  {
   "cell_type": "code",
   "execution_count": null,
   "id": "dc76dd89",
   "metadata": {},
   "outputs": [],
   "source": [
    "columns=['소형','준중형','중형','대형','가솔린','디젤','LPG','자동','수동','년식', '연비', \n",
    "         '마력', '토크', '하이브리드', '배기량', '중량']\n",
    "x_train_new = pd.DataFrame(x_train_c, columns=columns)\n",
    "x_test_new = pd.DataFrame(x_test_c, columns=columns)"
   ]
  },
  {
   "cell_type": "code",
   "execution_count": null,
   "id": "95686550",
   "metadata": {},
   "outputs": [],
   "source": [
    "from sklearn import metrics\n",
    "def print_evaluate(true, predicted):  \n",
    "    mae = metrics.mean_absolute_error(true, predicted)\n",
    "    mse = metrics.mean_squared_error(true, predicted)\n",
    "    rmse = np.sqrt(metrics.mean_squared_error(true, predicted))\n",
    "    r2_square = metrics.r2_score(true, predicted)\n",
    "    print('MAE:', mae)\n",
    "    print('MSE:', mse)\n",
    "    print('RMSE:', rmse)\n",
    "    print('R2 Square', r2_square)\n",
    "   "
   ]
  },
  {
   "cell_type": "code",
   "execution_count": null,
   "id": "1da33681",
   "metadata": {},
   "outputs": [],
   "source": [
    "# LinearRegressor, Ridge, Lasso, ElasticNet, LiniearRegressor-Poly, SGDRegressor"
   ]
  },
  {
   "cell_type": "code",
   "execution_count": null,
   "id": "ce8692f8",
   "metadata": {},
   "outputs": [],
   "source": [
    "LinearRegression?"
   ]
  },
  {
   "cell_type": "code",
   "execution_count": null,
   "id": "be400095",
   "metadata": {
    "scrolled": true
   },
   "outputs": [],
   "source": [
    "model = LinearRegression()\n",
    "\n",
    "model.fit(x_train_new, y_train)\n",
    "test_pred = model.predict(x_test_new)\n",
    "print_evaluate(y_test, test_pred)\n"
   ]
  },
  {
   "cell_type": "code",
   "execution_count": null,
   "id": "2e8e6c3f",
   "metadata": {},
   "outputs": [],
   "source": [
    "# Lasso에 의한 훈련\n",
    "Lasso?"
   ]
  },
  {
   "cell_type": "code",
   "execution_count": null,
   "id": "29eb8b6d",
   "metadata": {},
   "outputs": [],
   "source": [
    "from sklearn.linear_model import Lasso\n",
    "model = Lasso(random_state=42)\n",
    "\n",
    "model.fit(x_train_new, y_train)\n",
    "test_pred = model.predict(x_test_new)  \n",
    "print_evaluate(y_test, test_pred)\n"
   ]
  },
  {
   "cell_type": "code",
   "execution_count": null,
   "id": "b22b97f3",
   "metadata": {},
   "outputs": [],
   "source": [
    "# Ridge에 의한 훈련"
   ]
  },
  {
   "cell_type": "code",
   "execution_count": null,
   "id": "e0ed9bad",
   "metadata": {},
   "outputs": [],
   "source": [
    "from sklearn.linear_model import Ridge\n",
    "model = Ridge()\n",
    "\n",
    "model.fit(x_train_new, y_train)\n",
    "test_pred = model.predict(x_test_new)\n",
    "print_evaluate(y_test, test_pred)\n"
   ]
  },
  {
   "cell_type": "code",
   "execution_count": null,
   "id": "cb01f0bc",
   "metadata": {},
   "outputs": [],
   "source": [
    "# ElasticNet에 의한 훈련"
   ]
  },
  {
   "cell_type": "code",
   "execution_count": null,
   "id": "1cc602c0",
   "metadata": {},
   "outputs": [],
   "source": [
    "from sklearn.linear_model import ElasticNet\n",
    "model = ElasticNet(alpha=0.1)\n",
    "\n",
    "model.fit(x_train_new, y_train)\n",
    "test_pred = model.predict(x_test_new)\n",
    "print_evaluate(y_test, test_pred)\n"
   ]
  },
  {
   "cell_type": "code",
   "execution_count": null,
   "id": "d5c0a705",
   "metadata": {},
   "outputs": [],
   "source": [
    "# Polynomial Regression에 의한 훈련"
   ]
  },
  {
   "cell_type": "code",
   "execution_count": null,
   "id": "4e5e3ad0",
   "metadata": {},
   "outputs": [],
   "source": [
    "from sklearn.preprocessing import PolynomialFeatures\n",
    "#from sklearn.metrics import r2_score\n",
    "\n",
    "poly_reg = PolynomialFeatures(degree=3)\n",
    "\n",
    "x_train_2_d = poly_reg.fit_transform(x_train_new)\n",
    "x_test_2_d = poly_reg.transform(x_test_new)\n",
    "\n",
    "model = LinearRegression(normalize=True)\n",
    "model.fit(x_train_2_d,y_train)\n",
    "test_pred = model.predict(x_test_2_d)\n",
    "print_evaluate(y_test, test_pred)"
   ]
  },
  {
   "cell_type": "code",
   "execution_count": null,
   "id": "3b23b3f7",
   "metadata": {},
   "outputs": [],
   "source": [
    "# SGDRegressor에 의한 훈련"
   ]
  },
  {
   "cell_type": "code",
   "execution_count": null,
   "id": "05875be0",
   "metadata": {},
   "outputs": [],
   "source": [
    "from sklearn.linear_model import SGDRegressor\n",
    "model = SGDRegressor(random_state=42)\n",
    "\n",
    "model.fit(x_train_new, y_train)\n",
    "test_pred = model.predict(x_test_new)\n",
    "print_evaluate(y_test, test_pred)\n"
   ]
  },
  {
   "cell_type": "markdown",
   "id": "54dbad1e",
   "metadata": {},
   "source": [
    "### 데이터 정규화"
   ]
  },
  {
   "cell_type": "code",
   "execution_count": null,
   "id": "a2fbcbef",
   "metadata": {},
   "outputs": [],
   "source": [
    "from sklearn.preprocessing import StandardScaler\n",
    "from sklearn.pipeline import Pipeline\n",
    "\n",
    "pipeline = Pipeline([\n",
    "      ('std_scalar', StandardScaler())\n",
    "])\n",
    "\n",
    "x_train_r = pipeline.fit_transform(x_train_c)\n",
    "x_test_r = pipeline.fit_transform(x_test_c)\n",
    "\n",
    "# sc = StandardScaler()\n",
    "# sc.fit_transform(x_train_c)\n",
    "# sc.fit_transform(x_test_c)\n"
   ]
  },
  {
   "cell_type": "code",
   "execution_count": null,
   "id": "822a753c",
   "metadata": {},
   "outputs": [],
   "source": [
    "from sklearn.linear_model import LinearRegression, Lasso, Ridge, ElasticNet, SGDRegressor\n",
    "from sklearn.preprocessing import PolynomialFeatures\n",
    "\n",
    "# LinearRegression\n",
    "model = LinearRegression()\n",
    "model.fit(x_train_r, y_train)\n",
    "test_pred = model.predict(x_test_r)\n",
    "print(\"\\nLinearRegression \")\n",
    "print_evaluate(y_test, test_pred)\n",
    "\n",
    "# Lasso\n",
    "model = Lasso(alpha=0.1)\n",
    "model.fit(x_train_r, y_train)\n",
    "test_pred = model.predict(x_test_r)\n",
    "print(\"\\nLasso \")\n",
    "print_evaluate(y_test, test_pred)\n",
    "\n",
    "# Ridge\n",
    "model = Ridge(alpha=0.01, normalize=True)\n",
    "model.fit(x_train_r, y_train)\n",
    "test_pred = model.predict(x_test_r)\n",
    "print(\"\\nRidge \")\n",
    "print_evaluate(y_test, test_pred)\n",
    "\n",
    "# ElasticNet\n",
    "model = ElasticNet(alpha=0.1, l1_ratio=0.9)\n",
    "model.fit(x_train_r, y_train)\n",
    "test_pred = model.predict(x_test_r)\n",
    "print(\"\\nElasticNet \")\n",
    "print_evaluate(y_test, test_pred)\n",
    "\n",
    "# Polynomial\n",
    "poly_reg = PolynomialFeatures(degree=3)\n",
    "\n",
    "x_train_2_d = poly_reg.fit_transform(x_train_new)\n",
    "x_test_2_d = poly_reg.transform(x_test_new)\n",
    "\n",
    "model = LinearRegression(normalize=True)\n",
    "model.fit(x_train_2_d,y_train)\n",
    "test_pred = model.predict(x_test_2_d)\n",
    "print(\"\\nPolynomialRegression \")\n",
    "print_evaluate(y_test, test_pred)\n",
    "\n",
    "\n",
    "#SGDRegressor\n",
    "model = SGDRegressor()\n",
    "model.fit(x_train_r, y_train)\n",
    "test_pred = model.predict(x_test_r)\n",
    "print(\"\\nSGDRegressor \")\n",
    "print_evaluate(y_test, test_pred)"
   ]
  },
  {
   "cell_type": "code",
   "execution_count": null,
   "id": "b948dec3",
   "metadata": {},
   "outputs": [],
   "source": [
    "ElasticNet?"
   ]
  },
  {
   "cell_type": "markdown",
   "id": "181bac1d",
   "metadata": {},
   "source": [
    "### 로그 변환"
   ]
  },
  {
   "cell_type": "code",
   "execution_count": null,
   "id": "7a294dcd",
   "metadata": {},
   "outputs": [],
   "source": [
    "import seaborn as sns\n",
    "sns.distplot(y_test)"
   ]
  },
  {
   "cell_type": "code",
   "execution_count": null,
   "id": "75e282c4",
   "metadata": {},
   "outputs": [],
   "source": [
    "y_train_log = np.log1p(y_train)\n",
    "y_test_log = np.log1p(y_test)"
   ]
  },
  {
   "cell_type": "code",
   "execution_count": null,
   "id": "72ed2a34",
   "metadata": {},
   "outputs": [],
   "source": [
    "# LinearRegression\n",
    "model = LinearRegression()\n",
    "model.fit(x_train_new, y_train_log)\n",
    "print(model.score(x_test_new, y_test_log))\n",
    "\n",
    "\n",
    "# Lasso\n",
    "model = Lasso(alpha=1.0)\n",
    "model.fit(x_train_new, y_train_log)\n",
    "print(model.score(x_test_new, y_test_log))\n",
    "\n",
    "# Ridge\n",
    "model = Ridge(alpha=1.0)\n",
    "model.fit(x_train_new, y_train_log)\n",
    "print(model.score(x_test_new, y_test_log))"
   ]
  },
  {
   "cell_type": "code",
   "execution_count": null,
   "id": "c2dad048",
   "metadata": {},
   "outputs": [],
   "source": [
    "# '하이브리드' 특성 로그 변환\n",
    "temp = np.log1p(x_train_new['하이브리드'])\n",
    "x_train_new['하이브리드'] = temp"
   ]
  },
  {
   "cell_type": "code",
   "execution_count": null,
   "id": "a1edc267",
   "metadata": {},
   "outputs": [],
   "source": [
    "# LinearRegression\n",
    "model = LinearRegression()\n",
    "model.fit(x_train_new, y_train_log)\n",
    "print(model.score(x_test_new, y_test_log))\n",
    "\n",
    "\n",
    "# Lasso\n",
    "model = Lasso(alpha=0.01)\n",
    "model.fit(x_train_new, y_train_log)\n",
    "print(model.score(x_test_new, y_test_log))\n",
    "\n",
    "# Ridge\n",
    "model = Ridge(alpha=10)\n",
    "model.fit(x_train_new, y_train_log)\n",
    "print(model.score(x_test_new, y_test_log))"
   ]
  },
  {
   "cell_type": "markdown",
   "id": "ddf8c74e",
   "metadata": {},
   "source": [
    "### 특성 선택"
   ]
  },
  {
   "cell_type": "markdown",
   "id": "a4ba99a0",
   "metadata": {},
   "source": [
    "- 선형회귀의 가정(선형성, 독립성, 정규성) 중 선형성 특성 분석"
   ]
  },
  {
   "cell_type": "code",
   "execution_count": null,
   "id": "9904cd5a",
   "metadata": {},
   "outputs": [],
   "source": [
    "sns.pairplot(train_df[['가격', '년식', '연비', '마력', '토크', '하이브리드', '배기량', '중량']])"
   ]
  },
  {
   "cell_type": "code",
   "execution_count": null,
   "id": "d7c7d897",
   "metadata": {},
   "outputs": [],
   "source": [
    "x_train_s = x_train_new\n",
    "x_test_s = x_test_new"
   ]
  },
  {
   "cell_type": "code",
   "execution_count": null,
   "id": "b581026b",
   "metadata": {},
   "outputs": [],
   "source": [
    "# LinearRegression\n",
    "model = LinearRegression()\n",
    "model.fit(x_train_s, y_train)\n",
    "print(model.score(x_test_s, y_test))\n",
    "\n",
    "\n",
    "# Lasso\n",
    "model = Lasso(alpha=1.0)\n",
    "model.fit(x_train_s, y_train)\n",
    "print(model.score(x_test_s, y_test)) \n",
    "\n",
    "\n",
    "# Ridge\n",
    "model = Ridge(alpha=1.0)\n",
    "model.fit(x_train_s, y_train)\n",
    "print(model.score(x_test_s, y_test)) "
   ]
  },
  {
   "cell_type": "markdown",
   "id": "816dd61b",
   "metadata": {},
   "source": [
    "- 선형 특성에 위배되는 하이브리드 속성 제거"
   ]
  },
  {
   "cell_type": "code",
   "execution_count": null,
   "id": "710621fe",
   "metadata": {},
   "outputs": [],
   "source": [
    "x_train_s = x_train_new.drop('하이브리드', axis=1)\n",
    "x_test_s = x_test_new.drop('하이브리드', axis=1)"
   ]
  },
  {
   "cell_type": "code",
   "execution_count": null,
   "id": "8f346d70",
   "metadata": {},
   "outputs": [],
   "source": [
    "# LinearRegression\n",
    "model = LinearRegression()\n",
    "model.fit(x_train_s, y_train_log)\n",
    "print(model.score(x_test_s, y_test_log))\n",
    "\n",
    "\n",
    "# Lasso\n",
    "model = Lasso(alpha=0.01)\n",
    "model.fit(x_train_s, y_train_log)\n",
    "print(model.score(x_test_s, y_test_log)) \n",
    "\n",
    "\n",
    "# Ridge\n",
    "model = Ridge(alpha=10)\n",
    "model.fit(x_train_s, y_train_log)\n",
    "print(model.score(x_test_s, y_test_log)) "
   ]
  },
  {
   "cell_type": "markdown",
   "id": "1bc78ba1",
   "metadata": {},
   "source": [
    "### 하이퍼파라미터 튜닝"
   ]
  },
  {
   "cell_type": "code",
   "execution_count": null,
   "id": "0d447179",
   "metadata": {},
   "outputs": [],
   "source": [
    "alphas = [1000,100, 10, 1, 0.1, 0.01, 0.001, 0.0001]"
   ]
  },
  {
   "cell_type": "code",
   "execution_count": null,
   "id": "4f0164ec",
   "metadata": {
    "scrolled": true
   },
   "outputs": [],
   "source": [
    "for alpha in alphas:\n",
    "    model = Ridge(alpha=alpha, random_state=42)\n",
    "    model.fit(x_train_new, y_train_log)\n",
    "    print(alpha,\" : \", model.score(x_test_new, y_test_log)) "
   ]
  },
  {
   "cell_type": "code",
   "execution_count": null,
   "id": "2cf15f71",
   "metadata": {},
   "outputs": [],
   "source": [
    "for alpha in alphas:\n",
    "    model = Lasso(alpha=alpha, random_state=42)\n",
    "    model.fit(x_train_new, y_train_log)\n",
    "    print(alpha,\" : \", model.score(x_test_new, y_test_log)) "
   ]
  },
  {
   "cell_type": "code",
   "execution_count": null,
   "id": "a4b40ed6",
   "metadata": {},
   "outputs": [],
   "source": [
    "alphas = [1, 0.1, 0.01, 0.001, 0.0001]\n",
    "ratios = [0.2, 0.5, 0.8]"
   ]
  },
  {
   "cell_type": "code",
   "execution_count": null,
   "id": "c99057ad",
   "metadata": {},
   "outputs": [],
   "source": [
    "for alpha in alphas:\n",
    "    for ratio in ratios:\n",
    "        model = ElasticNet(alpha=alpha, l1_ratio=ratio, random_state=42)\n",
    "        model.fit(x_train_new, y_train_log)\n",
    "        print(alpha,\",\",ratio, \": \", model.score(x_test_new, y_test_log)) "
   ]
  },
  {
   "cell_type": "code",
   "execution_count": null,
   "id": "bbf27ed6",
   "metadata": {},
   "outputs": [],
   "source": []
  }
 ],
 "metadata": {
  "kernelspec": {
   "display_name": "Python 3",
   "language": "python",
   "name": "python3"
  },
  "language_info": {
   "codemirror_mode": {
    "name": "ipython",
    "version": 3
   },
   "file_extension": ".py",
   "mimetype": "text/x-python",
   "name": "python",
   "nbconvert_exporter": "python",
   "pygments_lexer": "ipython3",
   "version": "3.8.8"
  }
 },
 "nbformat": 4,
 "nbformat_minor": 5
}
