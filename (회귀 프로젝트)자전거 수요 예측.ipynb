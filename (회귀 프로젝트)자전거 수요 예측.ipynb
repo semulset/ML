{
 "cells": [
  {
   "cell_type": "markdown",
   "id": "cfa676e8",
   "metadata": {},
   "source": [
    "- 자전거 수요 예측 데이터셋\n",
    "    * datetime - hourly date + timestamp\n",
    "    * season - 1 = spring, 2 = summer, 3 = fall, 4 = winter\n",
    "    * holiday - whether the day is considered a holiday\n",
    "    * workingday - whether the day is neither a weekend nor holiday\n",
    "    * weather\n",
    "        - 1: Clear, Few clouds, Partly cloudy, Partly cloudy\n",
    "        - 2: Mist + Cloudy, Mist + Broken clouds, Mist + Few clouds, Mist\n",
    "        - 3: Light Snow, Light Rain + Thunderstorm + Scattered clouds, Light Rain + Scattered clouds\n",
    "        - 4: Heavy Rain + Ice Pallets + Thunderstorm + Mist, Snow + Fog\n",
    "    - temp - temperature in Celsius\n",
    "    - atemp - \"feels like\" temperature in Celsius\n",
    "    - humidity - relative humidity\n",
    "    - windspeed - wind speed\n",
    "    - casual - number of non-registered user rentals initiated\n",
    "    - registered - number of registered user rentals initiated\n",
    "    - count - number of total rentals"
   ]
  },
  {
   "cell_type": "markdown",
   "id": "b62ea650",
   "metadata": {},
   "source": [
    "- 분류와 회귀중 회귀와 관련 된 문제 => 자전거 대여량을 예측하는 문제이기 때문에"
   ]
  },
  {
   "cell_type": "code",
   "execution_count": null,
   "id": "cda5852d",
   "metadata": {},
   "outputs": [],
   "source": [
    "import pandas as pd\n",
    "import numpy as np\n",
    "import matplotlib as mpl\n",
    "import matplotlib.pyplot as plt\n",
    "import seaborn as sns\n",
    "from scipy import stats\n",
    "from matplotlib import font_manager, rc\n",
    "import platform\n",
    "\n",
    "# 노트북 안에 그래프를 그리기 위해\n",
    "%matplotlib inline\n",
    "\n",
    "# 그래프에서 격자로 숫자 범위가 눈에 잘 띄도록 ggplot 스타일을 사용\n",
    "plt.style.use('ggplot')\n",
    "\n",
    "# 그래프에서 한글 표현과 마이너스 폰트 깨지는 문제에 대한 대처\n",
    "if platform.system() == 'Windows':\n",
    "    font_name=font_manager.FontProperties(fname=\"c:/Windows/Fonts/malgun.ttf\").get_name()\n",
    "    rc('font', family=font_name)\n",
    "else:\n",
    "     rc('font', family='AppleGothic')   \n",
    "        \n",
    "mpl.rcParams['axes.unicode_minus'] = False"
   ]
  },
  {
   "cell_type": "code",
   "execution_count": null,
   "id": "4cefe6c0",
   "metadata": {},
   "outputs": [],
   "source": [
    "train = pd.read_csv(\"examples/bike/train.csv\", parse_dates=[\"datetime\"])\n",
    "train.shape"
   ]
  },
  {
   "cell_type": "code",
   "execution_count": null,
   "id": "b1626b8b",
   "metadata": {},
   "outputs": [],
   "source": [
    "train.info()"
   ]
  },
  {
   "cell_type": "code",
   "execution_count": null,
   "id": "63994dcb",
   "metadata": {},
   "outputs": [],
   "source": [
    "train.head()"
   ]
  },
  {
   "cell_type": "code",
   "execution_count": null,
   "id": "da15b558",
   "metadata": {},
   "outputs": [],
   "source": [
    "train.describe()"
   ]
  },
  {
   "cell_type": "code",
   "execution_count": null,
   "id": "87fc65ef",
   "metadata": {},
   "outputs": [],
   "source": [
    "train.isnull().sum()"
   ]
  },
  {
   "cell_type": "code",
   "execution_count": null,
   "id": "27122e01",
   "metadata": {},
   "outputs": [],
   "source": [
    "train[\"year\"] = train[\"datetime\"].dt.year\n",
    "train[\"month\"] = train[\"datetime\"].dt.month\n",
    "train[\"day\"] = train[\"datetime\"].dt.day\n",
    "train[\"hour\"] = train[\"datetime\"].dt.hour\n",
    "train.shape"
   ]
  },
  {
   "cell_type": "code",
   "execution_count": null,
   "id": "d004eca5",
   "metadata": {},
   "outputs": [],
   "source": [
    "train.head()"
   ]
  },
  {
   "cell_type": "code",
   "execution_count": null,
   "id": "8fc37bd9",
   "metadata": {},
   "outputs": [],
   "source": [
    "figure, ((ax1,ax2), (ax3,ax4)) = plt.subplots(nrows=2, ncols=2)\n",
    "figure.set_size_inches(18,8)\n",
    "\n",
    "sns.barplot(data=train, x=\"year\", y=\"count\", ax=ax1)\n",
    "sns.barplot(data=train, x=\"month\", y=\"count\", ax=ax2)\n",
    "sns.barplot(data=train, x=\"day\", y=\"count\", ax=ax3)\n",
    "sns.barplot(data=train, x=\"hour\", y=\"count\", ax=ax4)\n",
    "\n",
    "ax1.set(ylabel='Count',title=\"연도별 대여량\")\n",
    "ax2.set(xlabel='month',title=\"월별 대여량\")\n",
    "ax3.set(xlabel='day', title=\"일별 대여량\")\n",
    "ax4.set(xlabel='hour', title=\"시간별 대여량\")"
   ]
  },
  {
   "cell_type": "markdown",
   "id": "59500ef4",
   "metadata": {},
   "source": [
    "- 연도별 대여량은 2011년 보다 2012년이 더 많다.\n",
    "- 월별 대여량은 6월에 가장 많고 7~10월도 대여량이 많다. 그리고 1월에 가장 적다.\n",
    "- 일별대여량은 1일부터 19일까지만 있고 나머지 날짜는 test.csv에 있다. 그래서 이 데이터는 피처로 사용하면 안 된다.\n",
    "- 시간 대 대여량을 보면 출퇴근 시간에 대여량이 많은 것 같다. 하지만 주말과 나누어 볼 필요가 있을 것 같다.\n",
    "- 분, 초도 다 0이기 때문에 의미가 없다."
   ]
  },
  {
   "cell_type": "code",
   "execution_count": null,
   "id": "8a8c9792",
   "metadata": {},
   "outputs": [],
   "source": [
    "fig, axes = plt.subplots(nrows=2,ncols=2)\n",
    "fig.set_size_inches(12, 10)\n",
    "sns.boxplot(data=train,y=\"count\",orient=\"v\",ax=axes[0][0])\n",
    "sns.boxplot(data=train,y=\"count\",x=\"season\",orient=\"v\",ax=axes[0][1])\n",
    "sns.boxplot(data=train,y=\"count\",x=\"hour\",orient=\"v\",ax=axes[1][0])\n",
    "sns.boxplot(data=train,y=\"count\",x=\"workingday\",orient=\"v\",ax=axes[1][1])\n",
    "\n",
    "axes[0][0].set(ylabel='Count',title=\"대여량\")\n",
    "axes[0][1].set(xlabel='Season', ylabel='Count',title=\"계절별 대여량\")\n",
    "axes[1][0].set(xlabel='Hour Of The Day', ylabel='Count',title=\"시간별 대여량\")\n",
    "axes[1][1].set(xlabel='Working Day', ylabel='Count',title=\"근무일 여부에 따른 대여량\")"
   ]
  },
  {
   "cell_type": "code",
   "execution_count": null,
   "id": "1b98d853",
   "metadata": {},
   "outputs": [],
   "source": [
    "train[\"dayofweek\"] = train[\"datetime\"].dt.dayofweek\n",
    "train.shape"
   ]
  },
  {
   "cell_type": "code",
   "execution_count": null,
   "id": "86db6c51",
   "metadata": {},
   "outputs": [],
   "source": [
    "train[\"dayofweek\"].value_counts()"
   ]
  },
  {
   "cell_type": "code",
   "execution_count": null,
   "id": "a6240d21",
   "metadata": {},
   "outputs": [],
   "source": [
    "train.info()"
   ]
  },
  {
   "cell_type": "code",
   "execution_count": null,
   "id": "464f5e6a",
   "metadata": {},
   "outputs": [],
   "source": [
    "fig,(ax1,ax2,ax3,ax4,ax5)= plt.subplots(nrows=5)\n",
    "fig.set_size_inches(18,25)\n",
    "\n",
    "sns.pointplot(data=train, x=\"hour\", y=\"count\", ax=ax1)\n",
    "\n",
    "sns.pointplot(data=train, x=\"hour\", y=\"count\", hue=\"workingday\", ax=ax2)\n",
    "\n",
    "sns.pointplot(data=train, x=\"hour\", y=\"count\", hue=\"dayofweek\", ax=ax3)\n",
    "\n",
    "sns.pointplot(data=train, x=\"hour\", y=\"count\", hue=\"weather\", ax=ax4)\n",
    "\n",
    "sns.pointplot(data=train, x=\"hour\", y=\"count\", hue=\"season\", ax=ax5)"
   ]
  },
  {
   "cell_type": "code",
   "execution_count": null,
   "id": "a3b99752",
   "metadata": {},
   "outputs": [],
   "source": [
    "corrMatt = train[[\"temp\", \"atemp\", \"casual\", \"registered\", \"humidity\", \"windspeed\", \"count\"]]\n",
    "corrMatt = corrMatt.corr()\n",
    "print(corrMatt)"
   ]
  },
  {
   "cell_type": "markdown",
   "id": "9dd7cc91",
   "metadata": {},
   "source": [
    "- 온도, 습도, 풍속은 거의 연관관계가 없다.\n",
    "- 대여량과 가장 연관이 높은 건 registered 로 등록 된 대여자가 많지만, test 데이터에는 이 값이 없다.\n",
    "- atemp와 temp는 0.98로 상관관계가 높지만 온도와 체감온도를 피처로 사용하기에 적합하지 않을 수 있다."
   ]
  },
  {
   "cell_type": "code",
   "execution_count": null,
   "id": "d07615ab",
   "metadata": {},
   "outputs": [],
   "source": [
    "# test 데이터셋 읽어오기"
   ]
  },
  {
   "cell_type": "code",
   "execution_count": null,
   "id": "841bb937",
   "metadata": {},
   "outputs": [],
   "source": [
    "test = pd.read_csv(\"examples/bike/test.csv\", parse_dates=[\"datetime\"])\n",
    "test.shape"
   ]
  },
  {
   "cell_type": "code",
   "execution_count": null,
   "id": "d0c118d1",
   "metadata": {},
   "outputs": [],
   "source": [
    "test.info()"
   ]
  },
  {
   "cell_type": "code",
   "execution_count": null,
   "id": "5ef9cfa4",
   "metadata": {},
   "outputs": [],
   "source": [
    "test[\"year\"] = test[\"datetime\"].dt.year\n",
    "test[\"month\"] = test[\"datetime\"].dt.month\n",
    "test[\"hour\"] = test[\"datetime\"].dt.hour\n",
    "test[\"dayofweek\"] = test[\"datetime\"].dt.dayofweek\n",
    "test.shape"
   ]
  },
  {
   "cell_type": "code",
   "execution_count": null,
   "id": "7a163082",
   "metadata": {},
   "outputs": [],
   "source": [
    "# 연속형 feature와 범주형 feature\n",
    "# 범주형 feature의 type을 category로 변경 해 준다.\n",
    "categorical_feature_names = [\"season\",\"holiday\",\"workingday\",\"weather\",\n",
    "                             \"dayofweek\",\"month\",\"year\",\"hour\"]"
   ]
  },
  {
   "cell_type": "code",
   "execution_count": null,
   "id": "adb69486",
   "metadata": {},
   "outputs": [],
   "source": [
    "for var in categorical_feature_names:\n",
    "    train[var] = train[var].astype(\"category\")\n",
    "    test[var] = test[var].astype(\"category\")"
   ]
  },
  {
   "cell_type": "code",
   "execution_count": null,
   "id": "795da376",
   "metadata": {},
   "outputs": [],
   "source": [
    "feature_names = [\"season\", \"weather\", \"temp\", \"atemp\", \"humidity\",\n",
    "                 \"year\", \"month\", \"hour\", \"dayofweek\", \"holiday\", \"workingday\"\n",
    "                ]\n",
    "\n",
    "feature_names"
   ]
  },
  {
   "cell_type": "code",
   "execution_count": null,
   "id": "36a1c113",
   "metadata": {},
   "outputs": [],
   "source": [
    "X_train = train[feature_names]\n",
    "\n",
    "print(X_train.shape)\n",
    "X_train.head()"
   ]
  },
  {
   "cell_type": "code",
   "execution_count": null,
   "id": "fd3a8332",
   "metadata": {},
   "outputs": [],
   "source": [
    "X_test = test[feature_names]\n",
    "\n",
    "print(X_test.shape)\n",
    "X_test.head()"
   ]
  },
  {
   "cell_type": "code",
   "execution_count": null,
   "id": "1c74448d",
   "metadata": {},
   "outputs": [],
   "source": [
    "y_train = train['count']\n",
    "\n",
    "print(y_train.shape)\n",
    "y_train.head()"
   ]
  },
  {
   "cell_type": "markdown",
   "id": "7db7e701",
   "metadata": {},
   "source": [
    "#### 회귀모델로 예측"
   ]
  },
  {
   "cell_type": "markdown",
   "id": "8ed6790d",
   "metadata": {},
   "source": [
    "#### 선형 회귀 LinearRegression"
   ]
  },
  {
   "cell_type": "code",
   "execution_count": null,
   "id": "1a414fbb",
   "metadata": {},
   "outputs": [],
   "source": [
    "from sklearn.linear_model import LinearRegression, Ridge, Lasso\n",
    "from sklearn.model_selection import GridSearchCV\n",
    "from sklearn import metrics\n",
    "import warnings\n",
    "pd.options.mode.chained_assignment = None\n",
    "warnings.filterwarnings(\"ignore\", category=DeprecationWarning)\n",
    "\n",
    "# 선형회귀 모델을 초기화\n",
    "lModel = LinearRegression()\n",
    "\n",
    "# 모델을 학습시킨다.\n",
    "y_train_log = np.log1p(y_train)\n",
    "lModel.fit(X_train, y_train_log)\n",
    "\n",
    "# 예측하고 정확도를 평가한다.\n",
    "preds = lModel.predict(X_train)\n",
    "#print (\"RMSLE Value For Linear Regression: \",\n",
    "#       rmsle(np.exp(y_train_log),np.exp(preds), False))\n",
    "print (\"MSE Value For Linear Regression: \",np.square(np.subtract(y_train_log, preds)).mean())"
   ]
  },
  {
   "cell_type": "markdown",
   "id": "a7602567",
   "metadata": {},
   "source": [
    "#### 릿지  Ridge()"
   ]
  },
  {
   "cell_type": "markdown",
   "id": "0340a4e9",
   "metadata": {},
   "source": [
    "- 회귀를 위한 선형모델\n",
    "- 가중치(w)의 모든 원소가 0에 가깝게 만들어 모든 피처가 주는 영향을 최소화(기울기를 작게 만듦)\n",
    "- Regularization(정규화)는 오버피팅(과대적합)이 되지 않도록 모델을 강제로 제한한다는 의미\n",
    "- max_iter(반복 실행하는 최대 횟수)는 3000을 넣어주었다."
   ]
  },
  {
   "cell_type": "code",
   "execution_count": null,
   "id": "f174fd7f",
   "metadata": {},
   "outputs": [],
   "source": [
    "ridge_m_ = Ridge()\n",
    "ridge_params_ = { 'max_iter':[3000],'alpha':[0.01, 0.1, 1, 2, 3, 4, 10, 30,100,200,300,400,800,900,1000]}\n",
    "#rmsle_scorer = metrics.make_scorer(rmsle, greater_is_better=False)\n",
    "grid_ridge_m = GridSearchCV( ridge_m_,\n",
    "                          ridge_params_,\n",
    "                          #scoring = rmsle_scorer,\n",
    "                           scoring = 'neg_mean_squared_error',\n",
    "                          cv=5)\n",
    "\n",
    "y_train_log = np.log1p(y_train)\n",
    "grid_ridge_m.fit( X_train, y_train_log )\n",
    "preds = grid_ridge_m.predict(X_train)\n",
    "print (grid_ridge_m.best_params_)\n",
    "#print (\"RMSLE Value For Ridge Regression: \", rmsle(np.exp(y_train_log),np.exp(preds), False))\n",
    "print (\"MSE Value For Ridge Regression: \", np.square(np.subtract(y_train_log, preds)).mean())\n",
    "\n",
    "#df = pd.DataFrame(grid_ridge_m.cv_results_)\n",
    "#df.head()"
   ]
  },
  {
   "cell_type": "code",
   "execution_count": null,
   "id": "0f59a8bc",
   "metadata": {},
   "outputs": [],
   "source": [
    "df = pd.DataFrame(grid_ridge_m.cv_results_)\n",
    "df.head()"
   ]
  },
  {
   "cell_type": "code",
   "execution_count": null,
   "id": "6491e212",
   "metadata": {},
   "outputs": [],
   "source": [
    "df[\"alpha\"] = df[\"params\"].apply(lambda x:x[\"alpha\"])\n",
    "df[\"mse\"] = df[\"mean_test_score\"].apply(lambda x:-x)\n",
    "df[[\"alpha\", \"mse\"]].head()"
   ]
  },
  {
   "cell_type": "code",
   "execution_count": null,
   "id": "4b6ec94e",
   "metadata": {},
   "outputs": [],
   "source": [
    "fig,ax= plt.subplots()\n",
    "fig.set_size_inches(12,5)\n",
    "plt.xticks(rotation=30, ha='right')\n",
    "sns.pointplot(data=df,x=\"alpha\",y=\"mse\",ax=ax)"
   ]
  },
  {
   "cell_type": "code",
   "execution_count": null,
   "id": "3aafaf07",
   "metadata": {},
   "outputs": [],
   "source": [
    "Ridge?"
   ]
  },
  {
   "cell_type": "code",
   "execution_count": null,
   "id": "8253deac",
   "metadata": {},
   "outputs": [],
   "source": [
    "from sklearn.metrics import r2_score\n",
    "r2_score?"
   ]
  },
  {
   "cell_type": "code",
   "execution_count": null,
   "id": "301eca64",
   "metadata": {},
   "outputs": [],
   "source": []
  }
 ],
 "metadata": {
  "kernelspec": {
   "display_name": "Python 3",
   "language": "python",
   "name": "python3"
  },
  "language_info": {
   "codemirror_mode": {
    "name": "ipython",
    "version": 3
   },
   "file_extension": ".py",
   "mimetype": "text/x-python",
   "name": "python",
   "nbconvert_exporter": "python",
   "pygments_lexer": "ipython3",
   "version": "3.8.8"
  }
 },
 "nbformat": 4,
 "nbformat_minor": 5
}
