{
 "cells": [
  {
   "cell_type": "markdown",
   "id": "70d3631c",
   "metadata": {},
   "source": [
    "## 분류\n",
    "### MNIST 데이터셋,  머신러닝 분야의 'Hello world'"
   ]
  },
  {
   "cell_type": "code",
   "execution_count": null,
   "id": "c52cbb17",
   "metadata": {},
   "outputs": [],
   "source": [
    "# 파이썬 ≥3.5 필수\n",
    "import sys\n",
    "assert sys.version_info >= (3, 5)\n",
    "\n",
    "# 사이킷런 ≥0.20 필수\n",
    "import sklearn\n",
    "assert sklearn.__version__ >= \"0.20\"\n",
    "\n",
    "# 공통 모듈 임포트\n",
    "import numpy as np\n",
    "import os\n",
    "\n",
    "# 노트북 실행 결과를 동일하게 유지하기 위해\n",
    "np.random.seed(42)\n",
    "\n",
    "# 깔끔한 그래프 출력을 위해\n",
    "%matplotlib inline\n",
    "import matplotlib as mpl\n",
    "import matplotlib.pyplot as plt\n",
    "mpl.rc('axes', labelsize=14)\n",
    "mpl.rc('xtick', labelsize=12)\n",
    "mpl.rc('ytick', labelsize=12)\n",
    "\n",
    "# 그림을 저장할 위치\n",
    "PROJECT_ROOT_DIR = \".\"\n",
    "CHAPTER_ID = \"classification\"\n",
    "IMAGES_PATH = os.path.join(PROJECT_ROOT_DIR, \"images\", CHAPTER_ID)\n",
    "os.makedirs(IMAGES_PATH, exist_ok=True)\n",
    "\n",
    "def save_fig(fig_id, tight_layout=True, fig_extension=\"png\", resolution=300):\n",
    "    path = os.path.join(IMAGES_PATH, fig_id + \".\" + fig_extension)\n",
    "    print(\"그림 저장:\", fig_id)\n",
    "    if tight_layout:\n",
    "        plt.tight_layout()\n",
    "    plt.savefig(path, format=fig_extension, dpi=resolution)"
   ]
  },
  {
   "cell_type": "markdown",
   "id": "9680af31",
   "metadata": {},
   "source": [
    "### 데이터셋 불러오기\n",
    "\n",
    "openml.org에 접속해서 데이터셋을 불러오기 때문에 시간이 걸립니다."
   ]
  },
  {
   "cell_type": "code",
   "execution_count": null,
   "id": "1c94a395",
   "metadata": {},
   "outputs": [],
   "source": [
    "from sklearn.datasets import fetch_openml\n",
    "mnist = fetch_openml('mnist_784', version=1, as_frame = False)\n",
    "print(type(mnist))"
   ]
  },
  {
   "cell_type": "code",
   "execution_count": null,
   "id": "c65c758e",
   "metadata": {},
   "outputs": [],
   "source": [
    "X, y = mnist['data'], mnist['target']\n",
    "X.shape"
   ]
  },
  {
   "cell_type": "code",
   "execution_count": null,
   "id": "b7e916dd",
   "metadata": {},
   "outputs": [],
   "source": [
    "y.shape"
   ]
  },
  {
   "cell_type": "code",
   "execution_count": null,
   "id": "c620e4b1",
   "metadata": {},
   "outputs": [],
   "source": [
    "28*28"
   ]
  },
  {
   "cell_type": "code",
   "execution_count": null,
   "id": "bb8b6f96",
   "metadata": {},
   "outputs": [],
   "source": [
    "%matplotlib inline\n",
    "import matplotlib\n",
    "import matplotlib.pyplot as plt\n",
    "\n",
    "some_digit = X[0]\n",
    "some_digit_image = some_digit.reshape(28,28)\n",
    "plt.imshow(some_digit_image, cmap = matplotlib.cm.binary,\n",
    "          interpolation='nearest')\n",
    "#save_fig(\"some_digit_plot\")\n",
    "plt.axis('off')\n",
    "plt.show()"
   ]
  },
  {
   "cell_type": "code",
   "execution_count": null,
   "id": "c015a370",
   "metadata": {},
   "outputs": [],
   "source": [
    "y[0]"
   ]
  },
  {
   "cell_type": "markdown",
   "id": "0db3c3ee",
   "metadata": {},
   "source": [
    "타켓(클래스)의 데이터 타입이 문자열이므로 숫자형태로 변환해 줌"
   ]
  },
  {
   "cell_type": "code",
   "execution_count": null,
   "id": "146cd1fe",
   "metadata": {},
   "outputs": [],
   "source": [
    "y = y.astype(np.int64)"
   ]
  },
  {
   "cell_type": "code",
   "execution_count": null,
   "id": "a29d56bf",
   "metadata": {},
   "outputs": [],
   "source": [
    "y[0]"
   ]
  },
  {
   "cell_type": "markdown",
   "id": "069a21eb",
   "metadata": {},
   "source": [
    "데이터셋의 X 데이터들이 어떤 이미지인지 확인하기 위해 아래 코드를 실행"
   ]
  },
  {
   "cell_type": "code",
   "execution_count": null,
   "id": "78eaa613",
   "metadata": {},
   "outputs": [],
   "source": [
    "def plot_digit(data):\n",
    "    image = data.reshape(28, 28)\n",
    "    plt.imshow(image, cmap = mpl.cm.binary,\n",
    "               interpolation=\"nearest\")\n",
    "    plt.axis(\"off\")\n",
    "    \n",
    "  # 숫자 그림을 위한 추가 함수\n",
    "def plot_digits(instances, images_per_row=10, **options):\n",
    "    size = 28\n",
    "    images_per_row = min(len(instances), images_per_row)\n",
    "    images = [instance.reshape(size,size) for instance in instances]\n",
    "    n_rows = (len(instances) - 1) // images_per_row + 1\n",
    "    row_images = []\n",
    "    n_empty = n_rows * images_per_row - len(instances)\n",
    "    images.append(np.zeros((size, size * n_empty)))\n",
    "    for row in range(n_rows):\n",
    "        rimages = images[row * images_per_row : (row + 1) * images_per_row]\n",
    "        row_images.append(np.concatenate(rimages, axis=1))\n",
    "    image = np.concatenate(row_images, axis=0)\n",
    "    plt.imshow(image, cmap = mpl.cm.binary, **options)\n",
    "    plt.axis(\"off\")  \n",
    "    \n",
    "plt.figure(figsize=(9,9))\n",
    "example_images = X[:100]\n",
    "plot_digits(example_images, images_per_row=10)\n",
    "save_fig(\"more_digits_plot\")\n",
    "plt.show()"
   ]
  },
  {
   "cell_type": "markdown",
   "id": "44cae82b",
   "metadata": {},
   "source": [
    "### 훈련 데이터 60,000개,  테스트데이터 10,000개  분리"
   ]
  },
  {
   "cell_type": "code",
   "execution_count": null,
   "id": "764ceab2",
   "metadata": {},
   "outputs": [],
   "source": [
    "X_train, X_test, y_train, y_test = X[:60000], X[60000:], y[:60000], y[60000:]"
   ]
  },
  {
   "cell_type": "markdown",
   "id": "8d7f3c88",
   "metadata": {},
   "source": [
    "### 5인지 아닌지를 분류\n",
    "- target 값을 True(5인 경우)와 False(5가 아닌 경우)로 변경"
   ]
  },
  {
   "cell_type": "code",
   "execution_count": null,
   "id": "8c552e00",
   "metadata": {},
   "outputs": [],
   "source": [
    "y_train_5  = (y_train == 5)\n",
    "y_test_5 = (y_test == 5)"
   ]
  },
  {
   "cell_type": "code",
   "execution_count": null,
   "id": "3384fbb0",
   "metadata": {},
   "outputs": [],
   "source": [
    "y_train_5[10:50]"
   ]
  },
  {
   "cell_type": "markdown",
   "id": "d8d82403",
   "metadata": {},
   "source": [
    "### SGD Classfier(분류기)에 의해 학습"
   ]
  },
  {
   "cell_type": "code",
   "execution_count": null,
   "id": "1f03b3d0",
   "metadata": {},
   "outputs": [],
   "source": [
    "from sklearn.linear_model import SGDClassifier\n",
    "\n",
    "sgd_clf = SGDClassifier(max_iter=1000, tol=1e-3, random_state=42)\n",
    "sgd_clf.fit(X_train, y_train_5)"
   ]
  },
  {
   "cell_type": "markdown",
   "id": "5ca1b9f5",
   "metadata": {},
   "source": [
    "- some_digit (X[0])를 예측"
   ]
  },
  {
   "cell_type": "code",
   "execution_count": null,
   "id": "3d7b2817",
   "metadata": {},
   "outputs": [],
   "source": [
    "sgd_clf.predict([some_digit])"
   ]
  },
  {
   "cell_type": "markdown",
   "id": "02455431",
   "metadata": {},
   "source": [
    "### 교차검증을 이용한 정확도 측정\n",
    "- 정확도 : 전체 데이터 중 제대로 예측한 건수"
   ]
  },
  {
   "cell_type": "code",
   "execution_count": null,
   "id": "3e1d8449",
   "metadata": {},
   "outputs": [],
   "source": [
    "from sklearn.model_selection import cross_val_score\n",
    "cross_val_score(sgd_clf, X_train, y_train_5, cv=3, scoring='accuracy')"
   ]
  },
  {
   "cell_type": "markdown",
   "id": "916be654",
   "metadata": {},
   "source": [
    "### 평균 정확도가 95% 이상이므로 모델의 성능이 매우 좋다??\n",
    "\n",
    "- 비교를 위해 무조건 5가 아니라고 분류하는 분류기(더미 분류기)를 만들어 적용해 보기"
   ]
  },
  {
   "cell_type": "code",
   "execution_count": null,
   "id": "e90d1f29",
   "metadata": {},
   "outputs": [],
   "source": [
    "from sklearn.base import BaseEstimator\n",
    "class Never5Classifier(BaseEstimator):\n",
    "    def fit(self, X, y = None):\n",
    "        pass\n",
    "    def predict(self, X):\n",
    "        return np.zeros((len(X), 1), dtype=bool)"
   ]
  },
  {
   "cell_type": "code",
   "execution_count": null,
   "id": "18e634d3",
   "metadata": {},
   "outputs": [],
   "source": [
    "never_5_clf = Never5Classifier()\n",
    "cross_val_score(never_5_clf, X_train,y_train_5, cv=3, scoring='accuracy')"
   ]
  },
  {
   "cell_type": "markdown",
   "id": "78160533",
   "metadata": {},
   "source": [
    "- 이미지의 10% 정도만 숫자 5이기 때문에, 무조건 '5아님'으로 예측해도 정확도가 90%\n",
    "- 불균형 데이터셋에서는 정확도가 성능 측정 지표로 부적합"
   ]
  },
  {
   "cell_type": "markdown",
   "id": "27df8e50",
   "metadata": {},
   "source": [
    "### 분류의 성능 평가 - PPT 124 참조"
   ]
  },
  {
   "cell_type": "code",
   "execution_count": null,
   "id": "4910f12e",
   "metadata": {},
   "outputs": [],
   "source": [
    "from sklearn.model_selection import cross_val_predict\n",
    "\n",
    "y_train_pred = cross_val_predict(sgd_clf, X_train, y_train_5, cv=3)  # 교차검증에 의한 예측값 반환\n",
    "y_train_pred[:10]"
   ]
  },
  {
   "cell_type": "code",
   "execution_count": null,
   "id": "e89ccd91",
   "metadata": {},
   "outputs": [],
   "source": [
    "from sklearn.metrics import confusion_matrix\n",
    "\n",
    "confusion_matrix(y_train_5, y_train_pred)  # 오차행렬, (이진)분류의 예측이 얼마나 잘 수행되고 있는지를 보여줌"
   ]
  },
  {
   "cell_type": "code",
   "execution_count": null,
   "id": "51d31bd7",
   "metadata": {},
   "outputs": [],
   "source": [
    "y_train_perfect_predictions = y_train_5  # 예측 결과가 학습데이터의 타겟값과 같다고 가정하면,\n",
    "confusion_matrix(y_train_5, y_train_perfect_predictions)"
   ]
  },
  {
   "cell_type": "markdown",
   "id": "491ecefc",
   "metadata": {},
   "source": [
    "- 정밀도 : positive로 예측한 대상 중에 TP(True Positive)의 비율\n",
    "  * TP(진짜 양성)를 높이는 것이 목표\n",
    "  * NP(가짜 양성)를 낮추는 것이 목표\n",
    "  * 스팸 메일(스팸이면 양성)을 분류할 때, 스팸이 아닌 메일을 스팸으로 분류하게 되면 메일을 받을 수 없음, 이런 경우에는 정밀도가 중요"
   ]
  },
  {
   "cell_type": "code",
   "execution_count": null,
   "id": "a11ce75d",
   "metadata": {},
   "outputs": [],
   "source": [
    "from sklearn.metrics import precision_score, recall_score\n",
    "\n",
    "precision_score(y_train_5, y_train_pred)"
   ]
  },
  {
   "cell_type": "code",
   "execution_count": null,
   "id": "47d72c62",
   "metadata": {},
   "outputs": [],
   "source": [
    "cm = confusion_matrix(y_train_5, y_train_pred)   # 실제 계산에 의해 산출\n",
    "cm[1, 1] / (cm[0, 1] + cm[1, 1])"
   ]
  },
  {
   "cell_type": "markdown",
   "id": "b72d3d5b",
   "metadata": {},
   "source": [
    "- 재현율 : 실제 positive 중에 TP(True Positive)의 비율\n",
    "  * TP(진짜 양성)를 높이는 것이 목표\n",
    "  * FN(가짜 음성)를 낮추는 것이 목표\n",
    "  * 암 판단 모델, 금융사기적발 모델과 같이 실제 양성 데이터를 음성으로 잘못 판단하면 업무상 영향이 큰 경우에 성능기준으로 활용"
   ]
  },
  {
   "cell_type": "code",
   "execution_count": null,
   "id": "b28d6b31",
   "metadata": {},
   "outputs": [],
   "source": [
    "recall_score(y_train_5, y_train_pred)"
   ]
  },
  {
   "cell_type": "code",
   "execution_count": null,
   "id": "aa4bf0f5",
   "metadata": {},
   "outputs": [],
   "source": [
    "cm[1, 1] / (cm[1, 0] + cm[1, 1]) # 실제 계산에 의해 산출"
   ]
  },
  {
   "cell_type": "markdown",
   "id": "1634b17c",
   "metadata": {},
   "source": [
    "- F1 점수\n",
    "  * 정밀도와 재현율은 보완적인 지표이므로, 둘 다 높은 수치인 경우가 가장 좋은 성능을 의미\n",
    "  * 정밀도와 재현율의 조화 평균  \n"
   ]
  },
  {
   "cell_type": "code",
   "execution_count": null,
   "id": "aa100e4b",
   "metadata": {},
   "outputs": [],
   "source": [
    "from sklearn.metrics import f1_score\n",
    "\n",
    "f1_score(y_train_5, y_train_pred)"
   ]
  },
  {
   "cell_type": "code",
   "execution_count": null,
   "id": "5c18a897",
   "metadata": {},
   "outputs": [],
   "source": [
    "cm[1, 1] / (cm[1, 1] + (cm[1, 0] + cm[0, 1]) / 2)"
   ]
  },
  {
   "cell_type": "code",
   "execution_count": null,
   "id": "ae5baeb5",
   "metadata": {},
   "outputs": [],
   "source": [
    "#y_scores = cross_val_predict(sgd_clf, X_train, y_train_5, cv=3, method='decision_function')\n",
    "y_scores = cross_val_predict(sgd_clf, X_train, y_train_5, cv=3)\n",
    "y_scores[:10]"
   ]
  },
  {
   "cell_type": "markdown",
   "id": "03cc10f4",
   "metadata": {},
   "source": [
    "**classification_report()**<br>\n",
    " 분류 모델의 예측 결과와 실제 클래스 레이블을 기반으로 다양한 분류 지표들을 계산하여 보고서 형태로 제공"
   ]
  },
  {
   "cell_type": "code",
   "execution_count": null,
   "id": "9fe19791",
   "metadata": {},
   "outputs": [],
   "source": [
    "from sklearn.metrics import classification_report\n",
    "print(classification_report(y_train_5, y_scores))"
   ]
  },
  {
   "cell_type": "markdown",
   "id": "910443e7",
   "metadata": {},
   "source": [
    "- ROC 곡선\n",
    "  * FPR(거짓양성비율)에 대한 TPR(진짜양성비율, 재현율)의 곡선\n",
    "  * roc_curve() 함수로 곡선 계산하고, roc_auc_score() 함수로 면적 계산"
   ]
  },
  {
   "cell_type": "code",
   "execution_count": null,
   "id": "bbf28efe",
   "metadata": {},
   "outputs": [],
   "source": [
    "from sklearn.metrics import roc_curve\n",
    "\n",
    "fpr, tpr, thresholds = roc_curve(y_train_5, y_scores)"
   ]
  },
  {
   "cell_type": "code",
   "execution_count": null,
   "id": "45b228db",
   "metadata": {},
   "outputs": [],
   "source": [
    "def plot_roc_curve(fpr, tpr, label=None):\n",
    "    plt.plot(fpr, tpr, linewidth=2, label=label)\n",
    "    plt.plot([0, 1], [0, 1], 'k--') # 대각 점선\n",
    "    plt.xlabel('False Positive Rate (Fall-Out)', fontsize=16) # Not shown\n",
    "    plt.ylabel('True Positive Rate (Recall)', fontsize=16)    # Not shown\n",
    "    plt.grid(True)                                            # Not shown\n",
    "\n",
    "plt.figure(figsize=(8, 6))                                    # Not shown\n",
    "plot_roc_curve(fpr, tpr)\n",
    "save_fig(\"roc_curve_plot\")                                    # Not shown\n",
    "plt.show()"
   ]
  },
  {
   "cell_type": "code",
   "execution_count": null,
   "id": "c2baaac6",
   "metadata": {},
   "outputs": [],
   "source": [
    "from sklearn.metrics import roc_auc_score\n",
    "\n",
    "roc_auc_score(y_train_5, y_scores)"
   ]
  },
  {
   "cell_type": "markdown",
   "id": "e612c8bc",
   "metadata": {},
   "source": [
    "### RandomForestClassifier에 의한 학습"
   ]
  },
  {
   "cell_type": "code",
   "execution_count": null,
   "id": "3950950e",
   "metadata": {},
   "outputs": [],
   "source": [
    "from sklearn.ensemble import RandomForestClassifier\n",
    "forest_clf = RandomForestClassifier(n_estimators=100, random_state=42)"
   ]
  },
  {
   "cell_type": "code",
   "execution_count": null,
   "id": "e142865e",
   "metadata": {},
   "outputs": [],
   "source": [
    "y_train_pred_forest = cross_val_predict(forest_clf, X_train, y_train_5, cv=3)\n",
    "y_train_pred_forest[:10]"
   ]
  },
  {
   "cell_type": "code",
   "execution_count": null,
   "id": "f7706de7",
   "metadata": {},
   "outputs": [],
   "source": [
    "y_probas_forest = cross_val_predict(forest_clf, X_train, y_train_5, cv=3,\n",
    "                                    method=\"predict_proba\")"
   ]
  },
  {
   "cell_type": "code",
   "execution_count": null,
   "id": "9aaa0768",
   "metadata": {},
   "outputs": [],
   "source": [
    "y_scores_forest = y_probas_forest[:, 1] # 점수 = 양성 클래스의 확률\n",
    "y_scores_forest[:10]"
   ]
  },
  {
   "cell_type": "code",
   "execution_count": null,
   "id": "7f0782d8",
   "metadata": {},
   "outputs": [],
   "source": [
    "precision_score(y_train_5, y_train_pred_forest)"
   ]
  },
  {
   "cell_type": "code",
   "execution_count": null,
   "id": "89c4edfb",
   "metadata": {},
   "outputs": [],
   "source": [
    "recall_score(y_train_5, y_train_pred_forest)"
   ]
  },
  {
   "cell_type": "code",
   "execution_count": null,
   "id": "c7bd9d0a",
   "metadata": {},
   "outputs": [],
   "source": [
    "f1_score(y_train_5, y_train_pred_forest)"
   ]
  },
  {
   "cell_type": "code",
   "execution_count": null,
   "id": "b228832d",
   "metadata": {},
   "outputs": [],
   "source": [
    "fpr_forest, tpr_forest, thresholds_forest = roc_curve(y_train_5,y_scores_forest)"
   ]
  },
  {
   "cell_type": "code",
   "execution_count": null,
   "id": "b98f94c7",
   "metadata": {},
   "outputs": [],
   "source": [
    "plt.figure(figsize=(8, 6))\n",
    "plt.plot(fpr, tpr, \"b:\", linewidth=2, label=\"SGD\")\n",
    "plot_roc_curve(fpr_forest, tpr_forest, \"Random Forest\")\n",
    "\n",
    "plt.grid(True)\n",
    "plt.legend(loc=\"lower right\", fontsize=16)\n",
    "save_fig(\"roc_curve_comparison_plot\")\n",
    "plt.show()"
   ]
  },
  {
   "cell_type": "code",
   "execution_count": null,
   "id": "23410308",
   "metadata": {},
   "outputs": [],
   "source": [
    "from sklearn.metrics import roc_auc_score\n",
    "roc_auc_score(y_train_5, y_scores_forest)"
   ]
  },
  {
   "cell_type": "markdown",
   "id": "a58e91fb",
   "metadata": {},
   "source": [
    "### SGD Classifier, RandomForest Classifier 성능 비교"
   ]
  },
  {
   "cell_type": "markdown",
   "id": "041df4c8",
   "metadata": {},
   "source": [
    "           SGD   RandomForest \n",
    "                     \n",
    "  정밀도(precision)      0.84       0.99\n",
    "  \n",
    "  재현율(recall)         0.65       0.86    \n",
    "  \n",
    "  F1                      0.73     0.92\n",
    "  \n",
    "  ROC Auc                 0.96     0.99\n"
   ]
  },
  {
   "cell_type": "code",
   "execution_count": null,
   "id": "a0402950",
   "metadata": {},
   "outputs": [],
   "source": []
  }
 ],
 "metadata": {
  "kernelspec": {
   "display_name": "Python 3",
   "language": "python",
   "name": "python3"
  },
  "language_info": {
   "codemirror_mode": {
    "name": "ipython",
    "version": 3
   },
   "file_extension": ".py",
   "mimetype": "text/x-python",
   "name": "python",
   "nbconvert_exporter": "python",
   "pygments_lexer": "ipython3",
   "version": "3.8.8"
  }
 },
 "nbformat": 4,
 "nbformat_minor": 5
}
