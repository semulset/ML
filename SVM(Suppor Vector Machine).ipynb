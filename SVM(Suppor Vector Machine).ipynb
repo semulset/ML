{
 "cells": [
  {
   "cell_type": "markdown",
   "id": "7748b440",
   "metadata": {},
   "source": [
    "**SVM은 분류와 회귀에 사용할 수 있는 다목적 모델**"
   ]
  },
  {
   "cell_type": "markdown",
   "id": "1b8c3e51",
   "metadata": {},
   "source": [
    "분류\n",
    "- 붓꽃 분류 문제"
   ]
  },
  {
   "cell_type": "markdown",
   "id": "9689850a",
   "metadata": {},
   "source": [
    "LinearSVC"
   ]
  },
  {
   "cell_type": "code",
   "execution_count": null,
   "id": "df8cd6e5",
   "metadata": {},
   "outputs": [],
   "source": [
    "import numpy as np\n",
    "from sklearn import datasets\n",
    "from sklearn.pipeline import Pipeline\n",
    "from sklearn.preprocessing import StandardScaler\n",
    "from sklearn.svm import LinearSVC\n",
    "\n",
    "iris = datasets.load_iris()\n",
    "X = iris[\"data\"][:, (2, 3)] # petal length, petal width\n",
    "y = (iris[\"target\"] == 2).astype(np.float64) # Iris-Virginica\n",
    "\n",
    "svm_clf = Pipeline((\n",
    "    (\"scaler\", StandardScaler()),\n",
    "    #(\"linear_svc\", LinearSVC(C=1, loss=\"hinge\")), #선형 \n",
    "    (\"linear_svc\", SVC(kernel=\"linear\",C=1))      #비선형\n",
    "))\n",
    "\n",
    "svm_clf.fit(X, y)\n",
    "svm_clf.predict([[5.5, 1.7]]) #predict_proba() 함수가 없음\n",
    "\n"
   ]
  },
  {
   "cell_type": "markdown",
   "id": "d8d9b5ef",
   "metadata": {},
   "source": [
    "비선형 SVM\n",
    "- PolynomialFeature, StandardScaler, LinearSVC"
   ]
  },
  {
   "cell_type": "code",
   "execution_count": null,
   "id": "f91f038c",
   "metadata": {},
   "outputs": [],
   "source": [
    "from sklearn.datasets import make_moons\n",
    "from sklearn.pipeline import Pipeline\n",
    "from sklearn.preprocessing import PolynomialFeatures\n",
    "\n",
    "polynomial_svm_clf = Pipeline((\n",
    "(\"poly_features\", PolynomialFeatures(degree=3)),\n",
    "(\"scaler\", StandardScaler()),\n",
    "(\"svm_clf\", LinearSVC(C=10, loss=\"hinge\"))\n",
    "))\n",
    "\n",
    "polynomial_svm_clf.fit(X, y)\n",
    "polynomial_svm_clf.predict([[5.5, 1.7]])"
   ]
  },
  {
   "cell_type": "markdown",
   "id": "5de6f541",
   "metadata": {},
   "source": [
    "다항식 커널\n",
    "- 실제 다항 특성을 추가하지 않고 비슷한 효과를 만드는 수학적 트릭"
   ]
  },
  {
   "cell_type": "code",
   "execution_count": null,
   "id": "99268383",
   "metadata": {},
   "outputs": [],
   "source": [
    "from sklearn.svm import SVC\n",
    "\n",
    "poly_kernel_svm_clf = Pipeline((\n",
    "    (\"scaler\", StandardScaler()),\n",
    "    (\"svm_clf\", SVC(kernel=\"poly\", degree=3, coef0=1, C=5))\n",
    "))\n",
    "\n",
    "poly_kernel_svm_clf.fit(X, y)\n",
    "poly_kernel_svm_clf.predict([[5.5, 1.7]])\n"
   ]
  },
  {
   "cell_type": "markdown",
   "id": "c5c1426b",
   "metadata": {},
   "source": [
    "가우시안 RBF 커널\n",
    "- 특정 랜드마크와 얼마나 닮았는지 측정하는 유사도 함수로 계산한 특성을 추가"
   ]
  },
  {
   "cell_type": "code",
   "execution_count": null,
   "id": "2a03ee21",
   "metadata": {},
   "outputs": [],
   "source": [
    "rbf_kernel_svm_clf = Pipeline((\n",
    "    (\"scaler\", StandardScaler()),\n",
    "    (\"svm_clf\", SVC(kernel=\"rbf\", gamma=5, C=0.001))\n",
    "))\n",
    "\n",
    "rbf_kernel_svm_clf.fit(X,y)"
   ]
  },
  {
   "cell_type": "markdown",
   "id": "f3559f38",
   "metadata": {},
   "source": [
    "회귀"
   ]
  },
  {
   "cell_type": "code",
   "execution_count": null,
   "id": "6879b722",
   "metadata": {},
   "outputs": [],
   "source": [
    "from sklearn.svm import LinearSVR\n",
    "\n",
    "svm_reg = LinearSVR(epsilon=1.5)\n",
    "svm_reg.fit(X, y)\n"
   ]
  },
  {
   "cell_type": "code",
   "execution_count": null,
   "id": "a5104021",
   "metadata": {},
   "outputs": [],
   "source": [
    "from sklearn.svm import SVR\n",
    "\n",
    "svm_poly_reg = SVR(kernel=\"poly\", \n",
    "                   degree=2, \n",
    "                    C=100, \n",
    "                    epsilon=0.1)\n",
    "svm_poly_reg.fit(X, y)\n"
   ]
  },
  {
   "cell_type": "code",
   "execution_count": null,
   "id": "51762c0a",
   "metadata": {},
   "outputs": [],
   "source": []
  }
 ],
 "metadata": {
  "kernelspec": {
   "display_name": "Python 3",
   "language": "python",
   "name": "python3"
  },
  "language_info": {
   "codemirror_mode": {
    "name": "ipython",
    "version": 3
   },
   "file_extension": ".py",
   "mimetype": "text/x-python",
   "name": "python",
   "nbconvert_exporter": "python",
   "pygments_lexer": "ipython3",
   "version": "3.8.8"
  }
 },
 "nbformat": 4,
 "nbformat_minor": 5
}
